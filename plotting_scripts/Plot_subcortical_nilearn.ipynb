{
 "cells": [
  {
   "cell_type": "code",
   "execution_count": 4,
   "metadata": {},
   "outputs": [],
   "source": [
    "import nilearn\n",
    "from nilearn import plotting"
   ]
  },
  {
   "cell_type": "markdown",
   "metadata": {},
   "source": [
    "# Plot BMI and subcortical volumes - niftis with subcortical tvalues derived from MATLAB"
   ]
  },
  {
   "cell_type": "code",
   "execution_count": 20,
   "metadata": {},
   "outputs": [],
   "source": [
    "BMI=nilearn.plotting.plot_stat_map('./Subcortical_BMI.nii',\n",
    "                              bg_img='/usr/share/fsl/data/standard/MNI152_T1_1mm_brain.nii.gz',\n",
    "                              cut_coords=None,\n",
    "                              output_file=None,\n",
    "                              display_mode='z',\n",
    "                              colorbar=True,\n",
    "                              figure=None,\n",
    "                              title='BMI correlation with subcortical volumes',\n",
    "                              annotate=True,\n",
    "                              draw_cross=False,\n",
    "                              black_bg=False,\n",
    "                              symmetric_cbar='auto',\n",
    "                              dim='auto',\n",
    "                              vmax=None,\n",
    "                              resampling_interpolation='continuous')\n",
    "\n",
    "BMI.savefig('/dagher/dagher11/filip/OBAL/output/BMI_subcortical.svg')     \n",
    "BMI.close()   "
   ]
  },
  {
   "cell_type": "markdown",
   "metadata": {},
   "source": [
    "# Plot WHR and subcortical volumes"
   ]
  },
  {
   "cell_type": "code",
   "execution_count": 22,
   "metadata": {},
   "outputs": [],
   "source": [
    "WHR=nilearn.plotting.plot_stat_map('./Subcortical_WHR.nii',\n",
    "                              bg_img='/usr/share/fsl/data/standard/MNI152_T1_1mm_brain.nii.gz',\n",
    "                              cut_coords=None,\n",
    "                              output_file=None,\n",
    "                              display_mode='z',\n",
    "                              colorbar=True,\n",
    "                              figure=None,\n",
    "                              title='WHR correlation with subcortical volumes',\n",
    "                              annotate=True,\n",
    "                              draw_cross=False,\n",
    "                              black_bg=False,\n",
    "                              symmetric_cbar='auto',\n",
    "                              dim='auto',\n",
    "                              vmax=None,\n",
    "                              resampling_interpolation='continuous')\n",
    "WHR.savefig('/dagher/dagher11/filip/OBAL/output/WHR_subcortical.svg')     \n",
    "WHR.close()   "
   ]
  },
  {
   "cell_type": "markdown",
   "metadata": {},
   "source": [
    "# Plot VAT and subcorticl volumes"
   ]
  },
  {
   "cell_type": "code",
   "execution_count": 23,
   "metadata": {},
   "outputs": [],
   "source": [
    "VAT=nilearn.plotting.plot_stat_map('./Subcortical_VAT.nii',\n",
    "                              bg_img='/usr/share/fsl/data/standard/MNI152_T1_1mm_brain.nii.gz',\n",
    "                              cut_coords=None,\n",
    "                              output_file=None,\n",
    "                              display_mode='z',\n",
    "                              colorbar=True,\n",
    "                              figure=None,\n",
    "                              title='VAT correlation with subcortical volumes',\n",
    "                              annotate=True,\n",
    "                              draw_cross=False,\n",
    "                              black_bg=False,\n",
    "                              symmetric_cbar='auto',\n",
    "                              dim='auto',\n",
    "                              vmax=None,\n",
    "                              resampling_interpolation='continuous',\n",
    "                              cmap='Reds')\n",
    "VAT.savefig('/dagher/dagher11/filip/OBAL/output/VAT_subcortical.svg')     \n",
    "VAT.close()   "
   ]
  }
 ],
 "metadata": {
  "kernelspec": {
   "display_name": "Python 3",
   "language": "python",
   "name": "python3"
  },
  "language_info": {
   "codemirror_mode": {
    "name": "ipython",
    "version": 3
   },
   "file_extension": ".py",
   "mimetype": "text/x-python",
   "name": "python",
   "nbconvert_exporter": "python",
   "pygments_lexer": "ipython3",
   "version": "3.7.4"
  }
 },
 "nbformat": 4,
 "nbformat_minor": 2
}
