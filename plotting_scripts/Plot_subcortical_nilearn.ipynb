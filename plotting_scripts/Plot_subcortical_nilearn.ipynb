{
 "cells": [
  {
   "cell_type": "code",
   "execution_count": 3,
   "metadata": {},
   "outputs": [],
   "source": [
    "import nilearn\n",
    "from nilearn import plotting"
   ]
  },
  {
   "cell_type": "markdown",
   "metadata": {},
   "source": [
    "# Plot BMI and subcortical volumes - niftis with subcortical tvalues derived from MATLAB"
   ]
  },
  {
   "cell_type": "code",
   "execution_count": 4,
   "metadata": {},
   "outputs": [],
   "source": [
    "BMI=nilearn.plotting.plot_stat_map('../Subcortical_BMI.nii',\n",
    "                              bg_img='/usr/share/fsl/data/standard/MNI152_T1_1mm_brain.nii.gz',\n",
    "                              cut_coords=None,\n",
    "                              output_file=None,\n",
    "                              display_mode='z',\n",
    "                              colorbar=True,\n",
    "                              figure=None,\n",
    "                              title=None,\n",
    "                              annotate=True,\n",
    "                              draw_cross=False,\n",
    "                              black_bg=False,\n",
    "                              symmetric_cbar=True,\n",
    "                              dim='auto',\n",
    "                              vmax=14,\n",
    "                              resampling_interpolation='continuous',\n",
    "                              cmap='jet')\n",
    "\n",
    "BMI.savefig('/dagher/dagher11/filip/OBAL/output/BMI_subcortical.svg')     \n",
    "BMI.close()   "
   ]
  },
  {
   "cell_type": "markdown",
   "metadata": {},
   "source": [
    "# Plot WHR and subcortical volumes"
   ]
  },
  {
   "cell_type": "code",
   "execution_count": 5,
   "metadata": {},
   "outputs": [],
   "source": [
    "WHR=nilearn.plotting.plot_stat_map('../Subcortical_WHR.nii',\n",
    "                              bg_img='/usr/share/fsl/data/standard/MNI152_T1_1mm_brain.nii.gz',\n",
    "                              cut_coords=None,\n",
    "                              output_file=None,\n",
    "                              display_mode='z',\n",
    "                              colorbar=True,\n",
    "                              figure=None,\n",
    "                              title=None,\n",
    "                              annotate=True,\n",
    "                              draw_cross=False,\n",
    "                              black_bg=False,\n",
    "                              symmetric_cbar=True,\n",
    "                              dim='auto',\n",
    "                              vmax=14,\n",
    "                              resampling_interpolation='continuous',\n",
    "                              cmap='jet')\n",
    "WHR.savefig('/dagher/dagher11/filip/OBAL/output/WHR_subcortical.svg')     \n",
    "WHR.close()   "
   ]
  },
  {
   "cell_type": "markdown",
   "metadata": {},
   "source": [
    "# Plot VAT and subcorticl volumes"
   ]
  },
  {
   "cell_type": "code",
   "execution_count": 4,
   "metadata": {},
   "outputs": [],
   "source": [
    "VAT=nilearn.plotting.plot_stat_map('./Subcortical_VAT.nii',\n",
    "                              bg_img='/usr/share/fsl/data/standard/MNI152_T1_1mm_brain.nii.gz',\n",
    "                              cut_coords=None,\n",
    "                              output_file=None,\n",
    "                              display_mode='z',\n",
    "                              colorbar=True,\n",
    "                              figure=None,\n",
    "                              title='VAT correlation with subcortical volumes',\n",
    "                              annotate=True,\n",
    "                              draw_cross=False,\n",
    "                              black_bg=False,\n",
    "                              symmetric_cbar='auto',\n",
    "                              dim='auto',\n",
    "                              vmax=None,\n",
    "                              resampling_interpolation='continuous',\n",
    "                              cmap='jet')\n",
    "VAT.savefig('/dagher/dagher11/filip/OBAL/output/VAT_subcortical.svg')     \n",
    "VAT.close()   "
   ]
  },
  {
   "cell_type": "markdown",
   "metadata": {},
   "source": [
    "## Plot obesity measures and white matter integrity measures"
   ]
  },
  {
   "cell_type": "code",
   "execution_count": 15,
   "metadata": {},
   "outputs": [],
   "source": [
    "Plots=['WMH_FA.nii','BMI_FA.nii','WHR_FA.nii','VAT_FA.nii','WMH_MD.nii','BMI_MD.nii','WHR_MD.nii','VAT_MD.nii']\n",
    "\n",
    "for i in Plots:\n",
    "    WM=nilearn.plotting.plot_stat_map('./'+i,\n",
    "                                  bg_img='/usr/share/fsl/data/standard/MNI152_T1_1mm_brain.nii.gz',\n",
    "                                  cut_coords=None,\n",
    "                                  output_file=None,\n",
    "                                  display_mode='z',\n",
    "                                  colorbar=True,\n",
    "                                  figure=None,\n",
    "                                  title=None,\n",
    "                                  annotate=True,\n",
    "                                  draw_cross=False,\n",
    "                                  black_bg=False,\n",
    "                                  symmetric_cbar=True,\n",
    "                                  dim='auto',\n",
    "                                  vmax=0.32,\n",
    "                                  resampling_interpolation='continuous',\n",
    "                                  cmap='jet')\n",
    "    WM.savefig('/dagher/dagher11/filip/OBAL/output/'+i+'.svg')     \n",
    "    WM.close()   "
   ]
  },
  {
   "cell_type": "code",
   "execution_count": 13,
   "metadata": {},
   "outputs": [],
   "source": [
    "Plots=['WMH_FA.nii','BMI_FA.nii','WHR_FA.nii','VAT_FA.nii','WMH_MD.nii','BMI_MD.nii','WHR_MD.nii','VAT_MD.nii']\n",
    "\n",
    "for i in Plots:\n",
    "    WM=nilearn.plotting.plot_stat_map('./'+i,\n",
    "                                  bg_img='/usr/share/fsl/data/standard/MNI152_T1_1mm_brain.nii.gz',\n",
    "                                  cut_coords=None,\n",
    "                                  output_file=None,\n",
    "                                  display_mode='y',\n",
    "                                  colorbar=True,\n",
    "                                  figure=None,\n",
    "                                  title=None,\n",
    "                                  annotate=True,\n",
    "                                  draw_cross=False,\n",
    "                                  black_bg=False,\n",
    "                                  symmetric_cbar=True,\n",
    "                                  dim='auto',\n",
    "                                  vmax=0.32,\n",
    "                                  resampling_interpolation='continuous',\n",
    "                                  cmap='jet')\n",
    "    WM.savefig('/dagher/dagher11/filip/OBAL/output/'+i+'_axial.svg')     \n",
    "    WM.close()"
   ]
  },
  {
   "cell_type": "code",
   "execution_count": 14,
   "metadata": {},
   "outputs": [],
   "source": [
    "Plots=['WMH_FA.nii','BMI_FA.nii','WHR_FA.nii','VAT_FA.nii','WMH_MD.nii','BMI_MD.nii','WHR_MD.nii','VAT_MD.nii']\n",
    "\n",
    "for i in Plots:\n",
    "    WM=nilearn.plotting.plot_stat_map('./'+i,\n",
    "                                  bg_img='/usr/share/fsl/data/standard/MNI152_T1_1mm_brain.nii.gz',\n",
    "                                  cut_coords=None,\n",
    "                                  output_file=None,\n",
    "                                  display_mode='x',\n",
    "                                  colorbar=True,\n",
    "                                  figure=None,\n",
    "                                  title=None,\n",
    "                                  annotate=True,\n",
    "                                  draw_cross=False,\n",
    "                                  black_bg=False,\n",
    "                                  symmetric_cbar=True,\n",
    "                                  dim='auto',\n",
    "                                  vmax=0.32,\n",
    "                                  resampling_interpolation='continuous',\n",
    "                                  cmap='jet')\n",
    "    WM.savefig('/dagher/dagher11/filip/OBAL/output/'+i+'sagittal_.svg')     \n",
    "    WM.close()  "
   ]
  },
  {
   "cell_type": "markdown",
   "metadata": {},
   "source": [
    "## Plot subcortical mediations"
   ]
  },
  {
   "cell_type": "code",
   "execution_count": 9,
   "metadata": {},
   "outputs": [],
   "source": [
    "Plots=['Subcortical_mediation_BMI.nii','Subcortical_mediation_WHR.nii']\n",
    "\n",
    "for i in Plots:\n",
    "    WM=nilearn.plotting.plot_stat_map('./'+i,\n",
    "                                  bg_img='/usr/share/fsl/data/standard/MNI152_T1_1mm_brain.nii.gz',\n",
    "                                  cut_coords=[-24, -21, -18, -12, -8, 2, 17],\n",
    "                                  output_file=None,\n",
    "                                  display_mode='z',\n",
    "                                  colorbar=True,\n",
    "                                  figure=None,\n",
    "                                  title=None,\n",
    "                                  annotate=True,\n",
    "                                  draw_cross=False,\n",
    "                                  black_bg=False,\n",
    "                                  symmetric_cbar=True,\n",
    "                                  dim='auto',\n",
    "                                  vmax=0.24,\n",
    "                                  resampling_interpolation='continuous',\n",
    "                                  cmap='jet')\n",
    "    WM.savefig('/dagher/dagher11/filip/OBAL/output/'+i+'.svg')     \n",
    "    WM.close()  "
   ]
  },
  {
   "cell_type": "code",
   "execution_count": null,
   "metadata": {},
   "outputs": [],
   "source": []
  }
 ],
 "metadata": {
  "kernelspec": {
   "display_name": "Python 3",
   "language": "python",
   "name": "python3"
  },
  "language_info": {
   "codemirror_mode": {
    "name": "ipython",
    "version": 3
   },
   "file_extension": ".py",
   "mimetype": "text/x-python",
   "name": "python",
   "nbconvert_exporter": "python",
   "pygments_lexer": "ipython3",
   "version": "3.7.4"
  }
 },
 "nbformat": 4,
 "nbformat_minor": 2
}
