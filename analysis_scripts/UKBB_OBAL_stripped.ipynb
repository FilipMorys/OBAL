{
 "cells": [
  {
   "cell_type": "markdown",
   "metadata": {},
   "source": [
    "# Script to analyse UKBB whole brain data in the obesity accross lifespan (OBAL) project"
   ]
  },
  {
   "cell_type": "markdown",
   "metadata": {},
   "source": [
    "## Load packages"
   ]
  },
  {
   "cell_type": "code",
   "execution_count": 3,
   "metadata": {},
   "outputs": [],
   "source": [
    "library(ppcor)\n",
    "#install.packages('lmPerm')\n",
    "library(lmPerm)\n",
    "library(psych)\n",
    "library(car)\n",
    "library(ggplot2)\n",
    "library(lme4)\n",
    "library(mediation)\n",
    "library(caret)\n",
    "library(gbm)\n",
    "library(party)\n",
    "library(Metrics)\n",
    "#install.packages(\"wesanderson\")\n",
    "library(wesanderson)\n",
    "library(gtools)\n",
    "library(interactions)\n",
    "#install.packages('ggstance')\n",
    "library(ggstance)\n",
    "#install.packages('elasticnet')\n",
    "library(elasticnet)\n",
    "#install.packages('kernlab')\n",
    "library(kernlab)\n",
    "#install.packages('e1071')\n",
    "library(e1071)\n",
    "#install.packages('MatchIt')\n",
    "library(MatchIt)\n",
    "library(dplyr)\n",
    "library(ukbtools)"
   ]
  },
  {
   "cell_type": "markdown",
   "metadata": {},
   "source": [
    "## Load the data"
   ]
  },
  {
   "cell_type": "code",
   "execution_count": 2,
   "metadata": {},
   "outputs": [],
   "source": [
    "my_ukb_data <- ukb_df(\"ukb38276\", path = \"/dagher/dagher11/filip/OBAL/UKBB_data/\")\n",
    "load(\"/home/bic/fmorys/Projects/UKBB_all/di.Rda\")\n",
    "colnames(di)=c('eid',colnames(di)[2:length(di)])\n",
    "\n",
    "ukbb_check=merge(my_ukb_data,di, by.x='eid')\n",
    "\n",
    "di$bipolar_dis <- NA\n",
    "di$bipolar_dis[di$bipolar_disorder_status_f20122_0_0==\"Bipolar Type I (Mania)\"] <- 1\n",
    "di$bipolar_dis[di$bipolar_disorder_status_f20122_0_0==\"Bipolar Type II (Hypomania)\"] <- 1\n",
    "\n",
    "#Personality Disorders\n",
    "di$personality_dis <- NA\n",
    "for (i in as.numeric(grep('mental_health_problems_ever_diagnosed_by_a_professional', \n",
    "                          colnames(di)))) { #Columns with mental illness\n",
    "di$personality_dis[di[i]==\"A personality disorder\"] <- 1\n",
    "}\n",
    "\n",
    "#Mental health issues\n",
    "di$schizophrenia <- NA\n",
    "for (i in as.numeric(grep('mental_health_problems_ever_diagnosed_by_a_professional', \n",
    "                          colnames(di)))) { #Columns with mental illness\n",
    "di$schizophrenia[di[i]==\"Schizophrenia\"] <- 1\n",
    "di$schizophrenia[di[i]==\"Depression\"] <- 1\n",
    "di$schizophrenia[di[i]==\"Mania, hypomania, bipolar or manic-depression\"] <- 1\n",
    "di$schizophrenia[di[i]==\"Bulimia nervosa\"] <- 1\n",
    "di$schizophrenia[di[i]==\"Anorexia nervosa\"] <- 1\n",
    "di$schizophrenia[di[i]==\"Attention deficit or attention deficit and hyperactivity disorder (ADD/ADHD)\"] <- 1\n",
    "di$schizophrenia[di[i]==\"Panic attacks\"] <- 1\n",
    "}\n",
    "\n",
    "\n",
    "# Exclude participants who have diabetes\n",
    "di$vascular_heart_diagnoses <- NA\n",
    "for (i in as.numeric(grep('diabetes_diagnosed_by_doctor', \n",
    "                          colnames(di)))) { #Columns with vascular diseases\n",
    "di$diabetes[di[i] ==\"Yes\"] <- 1\n",
    "}\n",
    "\n",
    "# Exclude participants who had a heart attack, angina or stroke\n",
    "di$vascular_heart_diagnoses <- NA\n",
    "for (i in as.numeric(grep('vascularheart_problems_diagnosed_by_doctor', \n",
    "                          colnames(di)))) { #Columns with vascular diseases\n",
    "di$vascular_heart_diagnoses[di[i] ==\"High blood pressure\"] <- 1\n",
    "}\n",
    "\n",
    "\n",
    "\n",
    "#Dementia\n",
    "for (i in as.numeric(grep('noncancer_illness_code_selfreported', \n",
    "                          colnames(di)))) { #Columns with noncancer illness for all timepoints\n",
    "di$neurological_disorder[di[i] == \"1263\"] <- 1 #Dementia or Alzheimer's\n",
    "di$neurological_disorder[di[i] == \"1262\"] <- 1 #Parkinson Disease\n",
    "di$neurological_disorder[di[i] == \"1258\"] <- 1 #Chronic degenerative neurological\n",
    "di$neurological_disorder[di[i] == \"1256\"] <- 1 #Guillain Barré\n",
    "di$neurological_disorder[di[i] == \"1261\"] <- 1 #Multiple slerosis\n",
    "di$neurological_disorder[di[i] == \"1297\"] <- 1 #Other demyenilating disease\n",
    "di$neurological_disorder[di[i] == \"1081\"] <- 1 #Stroke\n",
    "di$neurological_disorder[di[i] == \"1032\"] <- 1 #Brain cancer\n",
    "di$neurological_disorder[di[i] == \"1491\"] <- 1 #Brain hemorrhage\n",
    "di$neurological_disorder[di[i] == \"1245\"] <- 1 #Brain/ intracranial abcess\n",
    "di$neurological_disorder[di[i] == \"1425\"] <- 1 #Cerebral aneurism\n",
    "di$neurological_disorder[di[i] == \"1433\"] <- 1 #Cerebral palsy\n",
    "di$neurological_disorder[di[i] == \"1256\"] <- 1 #Encephalitis\n",
    "di$neurological_disorder[di[i] == \"1264\"] <- 1 #Epilepsy\n",
    "di$neurological_disorder[di[i] == \"1266\"] <- 1 #Head injury\n",
    "di$neurological_disorder[di[i] == \"1244\"] <- 1 #Infections of the nervous system\n",
    "di$neurological_disorder[di[i] == \"1583\"] <- 1 #Ischaemic stroke\n",
    "di$neurological_disorder[di[i] == \"1031\"] <- 1 #Meningeal cancer\n",
    "di$neurological_disorder[di[i] == \"1659\"] <- 1 #Meningioma (benign)\n",
    "di$neurological_disorder[di[i] == \"1247\"] <- 1 #Meningitis\n",
    "di$neurological_disorder[di[i] == \"1259\"] <- 1 #Motor neuron disease\n",
    "di$neurological_disorder[di[i] == \"1240\"] <- 1 #Neurological injury/trauma\n",
    "di$neurological_disorder[di[i] == \"1524\"] <- 1 #Spina bifida\n",
    "di$neurological_disorder[di[i] == \"1083\"] <- 1 #Subdural hematoma\n",
    "di$neurological_disorder[di[i] == \"1086\"] <- 1 #Subarachnoid haemorrage\n",
    "di$neurological_disorder[di[i] == \"1082\"] <- 1 #Transient ischaemic attack\n",
    "}\n",
    "\n",
    "#If BMI < 18.5 (Re-do this, cause it's not usually done)\n",
    "#di$underweight1[di$body_mass_index_bmi_f21001_0_0 < 18.5] <- 1\n",
    "#di$underweight2[di$body_mass_index_bmi_f21001_1_0 < 18.5] <- 1\n",
    "di$underweight3[di$body_mass_index_bmi_f21001_2_0 < 18.5] <- 1\n",
    "\n",
    "#Exclude participants if no neuroimaging data, bipolar_dis == 1; personality_dis == 1; schizophrenia == 1; vascular_heart_diagnoses ==1\n",
    "\n",
    "di$excluded <- NA\n",
    "di$excluded[di$bipolar_dis ==1] <- 1\n",
    "di$excluded[di$personality_dis == 1] <- 1\n",
    "di$excluded[di$schizophrenia == 1] <- 1\n",
    "di$excluded[di$vascular_heart_diagnoses ==1] <- 1\n",
    "#di$excluded[di$underweight1 ==1] <- 1\n",
    "#di$excluded[di$underweight2 ==1] <- 1\n",
    "di$excluded[di$underweight3 == 1] <- 1\n",
    "di$excluded[di$neurological_disorder ==1] <- 1\n",
    "di$diabetes[di$neurological_disorder ==1] <- 1\n",
    "\n",
    "di$included<-car::recode(di$excluded, \"1='excluded'; else='included'\")\n",
    "\n",
    "\n",
    "#Select subjects if included ==1\n",
    "di_excluded <- subset(di, included==\"included\")\n",
    "\n",
    "ukbb_all=merge(my_ukb_data, di_excluded, by.x='eid')\n",
    "\n",
    "nrow(ukbb_all)\n",
    "\n",
    "# Remove outliers\n",
    "\n",
    "variables_for_outliers=c(58:88, 120:150, 26:27, 32:38, 42:43, 48:54, 89:119, 151:181, 1891, 9) # all volume and thickness variables from FS, BMI, eTIV \n",
    "\n",
    "for (j in variables_for_outliers) { # \n",
    "    Q3=as.numeric(quantile(ukbb_all[j],0.75, na.rm=TRUE))\n",
    "    Q1=as.numeric(quantile(ukbb_all[j],0.25, na.rm=TRUE))\n",
    "    upper=Q3+(2.2*(Q3-Q1))\n",
    "    lower=Q1-(2.2*(Q3-Q1))\n",
    "    ukbb_all[j][ukbb_all[j]<lower]=NA\n",
    "    ukbb_all[j][ukbb_all[j]>upper]=NA\n",
    "}\n",
    "\n",
    "ukbb_all=ukbb_all[complete.cases(ukbb_all[,variables_for_outliers]),]\n",
    "nrow(ukbb_all)\n",
    "\n",
    "ukbb_all$WMH_logscaled=log(ukbb_all$total_volume_of_white_matter_hyperintensities_from_t1_and_t2_flair_images_f25781_2_0*\n",
    "                    ukbb_all$volumetric_scaling_from_t1_head_image_to_standard_space_f25000_2_0)\n",
    "ukbb_all$logBMI3=log(ukbb_all$body_mass_index_bmi_f21001_2_0)"
   ]
  },
  {
   "cell_type": "markdown",
   "metadata": {},
   "source": [
    "## Save file with outliers and clinical groups excluded"
   ]
  },
  {
   "cell_type": "code",
   "execution_count": 23,
   "metadata": {},
   "outputs": [],
   "source": [
    "write.table(ukbb_all, file = \"/dagher/dagher11/filip/OBAL/output/UKBB_preprocessed.csv\", \n",
    "            append = FALSE, quote = FALSE, sep = \",\", na = \"NA\", dec = \".\", row.names = FALSE,\n",
    "            col.names = TRUE)"
   ]
  },
  {
   "cell_type": "markdown",
   "metadata": {},
   "source": [
    "## Calculate BMI * Age interaction influence on cortical thickness"
   ]
  },
  {
   "cell_type": "code",
   "execution_count": 5,
   "metadata": {
    "scrolled": true
   },
   "outputs": [],
   "source": [
    "Stats=matrix(nrow=length(c(58:88, 120:150)),ncol=2)\n",
    "index=1\n",
    "for (i in c(58:88, 120:150)) { #All thickness variables 58:88, 120:150\n",
    "    \n",
    "    scaled=((ukbb_all[[i]])-mean(ukbb_all[[i]]))/sd(ukbb_all[[i]])\n",
    "    \n",
    "    a=(summary(lm(scaled ~ \n",
    "                     scale(log(ukbb_all[[1891]]))*\n",
    "                     scale(ukbb_all[[1897]]) + \n",
    "                     as.factor(ukbb_all[[185]]) +\n",
    "                     scale(ukbb_all[[9]]), center=FALSE, qr = TRUE, maxIter=100000, Ca=0.0001)))\n",
    "    \n",
    "    Stats[index,][2]=a$coefficients[6,][4]\n",
    "    Stats[index,][1]=colnames(ukbb_all)[i]\n",
    "    index=index+1\n",
    "    \n",
    "}\n",
    "\n",
    "Stats_t=matrix(nrow=length(c(58:88, 120:150)),ncol=2)\n",
    "index=1\n",
    "for (i in c(58:88, 120:150)) { #All thickness variables 58:88, 120:150\n",
    "    \n",
    "    scaled=((ukbb_all[[i]])-mean(ukbb_all[[i]]))/sd(ukbb_all[[i]])\n",
    "    \n",
    "    a=(summary(lm(scaled ~ \n",
    "                     scale(log(ukbb_all[[1891]]))*\n",
    "                     scale(ukbb_all[[1897]]) + \n",
    "                     as.factor(ukbb_all[[185]]) +\n",
    "                     scale(ukbb_all[[9]]))))\n",
    "    \n",
    "    Stats_t[index,][2]=a$coefficients[6,][3]\n",
    "    Stats_t[index,][1]=colnames(ukbb_all)[i]\n",
    "    index=index+1\n",
    "    \n",
    "}"
   ]
  },
  {
   "cell_type": "markdown",
   "metadata": {},
   "source": [
    "## Use BH FDR correction for the p-values and save them to be plotted in MATLAB"
   ]
  },
  {
   "cell_type": "code",
   "execution_count": 7,
   "metadata": {},
   "outputs": [],
   "source": [
    "write.table(p.adjust(Stats[,2], method = 'BH'),'/dagher/dagher11/filip/OBAL/output/wholebrain_pval.csv',sep=',',quote=FALSE, row.names=FALSE)\n",
    "write.table(Stats_t[,2],'/dagher/dagher11/filip/OBAL/output/wholebrain_tval.csv',sep=',',quote=FALSE, row.names=FALSE)"
   ]
  },
  {
   "cell_type": "markdown",
   "metadata": {},
   "source": [
    "## Age * BMI for subcortical volumes"
   ]
  },
  {
   "cell_type": "code",
   "execution_count": 61,
   "metadata": {
    "scrolled": true
   },
   "outputs": [],
   "source": [
    "Statssubvol=matrix(nrow=length(c(26:27,32:38, 42:43, 48:54)),ncol=2)\n",
    "index=1\n",
    "for (i in c(26:27,32:38, 42:43, 48:54)) { #All thickness variables 58:88, 120:150\n",
    "    \n",
    "    scaled=((ukbb_all[[i]]/ukbb_all[[9]])-mean(ukbb_all[[i]]/ukbb_all[[9]]))/sd(ukbb_all[[i]]/ukbb_all[[9]])\n",
    "    \n",
    "    b=(summary(lm(scaled ~ \n",
    "                     scale(log(ukbb_all[[1891]]))*\n",
    "                     scale(ukbb_all[[1897]]) + \n",
    "                     as.factor(ukbb_all[[185]]), center=FALSE, qr = TRUE, maxIter=100000, Ca=0.0001)))\n",
    "    \n",
    "    Statssubvol[index,][2]=b$coefficients[2,][4]\n",
    "    Statssubvol[index,][1]=colnames(ukbb_all)[i]\n",
    "    index=index+1\n",
    "    \n",
    "}\n",
    "\n",
    "Statssubvol_t=matrix(nrow=length(c(26:27,32:38, 42:43, 48:54)),ncol=2)\n",
    "index=1\n",
    "for (i in c(26:27,32:38, 42:43, 48:54)) { #All thickness variables 58:88, 120:150\n",
    "    \n",
    "    scaled=((ukbb_all[[i]])-mean(ukbb_all[[i]]))/sd(ukbb_all[[i]])\n",
    "    \n",
    "    b=(summary(lm(scaled ~ \n",
    "                     scale(log(ukbb_all[[1891]]))*\n",
    "                     scale(ukbb_all[[1897]]) + \n",
    "                     as.factor(ukbb_all[[185]]))))\n",
    "    \n",
    "    Statssubvol_t[index,][2]=b$coefficients[2,][3]\n",
    "    Statssubvol_t[index,][1]=colnames(ukbb_all)[i]\n",
    "    index=index+1\n",
    "    \n",
    "}"
   ]
  },
  {
   "cell_type": "code",
   "execution_count": 64,
   "metadata": {
    "scrolled": false
   },
   "outputs": [],
   "source": [
    "print(Statssubvol_t[p.adjust(Statssubvol[,2], method = 'BH')<0.05])"
   ]
  },
  {
   "cell_type": "code",
   "execution_count": 74,
   "metadata": {},
   "outputs": [],
   "source": [
    "write.table(p.adjust(Statssubvol[,2], method = 'BH'),'/dagher/dagher11/filip/OBAL/output/wholebrainvol_pval.csv',sep=',',quote=FALSE, row.names=FALSE)\n",
    "write.table(Statssubvol_t[,2],'/dagher/dagher11/filip/OBAL/output/wholebrainvol_tval.csv',sep=',',quote=FALSE, row.names=FALSE)"
   ]
  },
  {
   "cell_type": "markdown",
   "metadata": {},
   "source": [
    "## Age * BMI for volume of cortical gray matter"
   ]
  },
  {
   "cell_type": "code",
   "execution_count": 10,
   "metadata": {
    "scrolled": true
   },
   "outputs": [],
   "source": [
    "Statsctxvol=matrix(nrow=length(c(89:119, 151:181)),ncol=2)\n",
    "index=1\n",
    "for (i in c(89:119, 151:181)) { #All thickness variables 58:88, 120:150\n",
    "    \n",
    "    scaled=((ukbb_all[[i]]/ukbb_all[[9]])-mean(ukbb_all[[i]]/ukbb_all[[9]]))/sd(ukbb_all[[i]]/ukbb_all[[9]])\n",
    "    \n",
    "    c=(summary(lm(scaled ~ \n",
    "                     scale(log(ukbb_all[[1891]]))*\n",
    "                     scale(ukbb_all[[1897]]) + \n",
    "                     as.factor(ukbb_all[[185]]), center=FALSE, qr = TRUE, maxIter=100000, Ca=0.0001)))\n",
    "    \n",
    "    Statsctxvol[index,][2]=c$coefficients[2,][4]\n",
    "    Statsctxvol[index,][1]=colnames(ukbb_all)[i]\n",
    "    index=index+1\n",
    "    \n",
    "}\n",
    "\n",
    "Statsctxvol_t=matrix(nrow=length(c(89:119, 151:181)),ncol=2)\n",
    "index=1\n",
    "for (i in c(89:119, 151:181)) { #All thickness variables 58:88, 120:150\n",
    "    \n",
    "    scaled=((ukbb_all[[i]]/ukbb_all[[9]])-mean(ukbb_all[[i]]/ukbb_all[[9]]))/sd(ukbb_all[[i]]/ukbb_all[[9]])\n",
    "    \n",
    "    c=(summary(lm(scaled ~ \n",
    "                     scale(log(ukbb_all[[1891]]))*\n",
    "                     scale(ukbb_all[[1897]]) + \n",
    "                     as.factor(ukbb_all[[185]]))))\n",
    "    \n",
    "    Statsctxvol_t[index,][2]=c$coefficients[2,][3]\n",
    "    Statsctxvol_t[index,][1]=colnames(ukbb_all)[i]\n",
    "    index=index+1\n",
    "    \n",
    "}"
   ]
  },
  {
   "cell_type": "code",
   "execution_count": 12,
   "metadata": {},
   "outputs": [],
   "source": [
    "write.table(p.adjust(Statsctxvol[,2], method = 'BH'),'/dagher/dagher11/filip/OBAL/output/wholebrainvolctx_pval.csv',sep=',',quote=FALSE, row.names=FALSE)\n",
    "write.table(Statsctxvol_t[,2],'/dagher/dagher11/filip/OBAL/output/wholebrainvolctx_tval.csv',sep=',',quote=FALSE, row.names=FALSE)"
   ]
  },
  {
   "cell_type": "markdown",
   "metadata": {},
   "source": [
    "## Thickness and BMI"
   ]
  },
  {
   "cell_type": "code",
   "execution_count": 4,
   "metadata": {
    "scrolled": true
   },
   "outputs": [],
   "source": [
    "Statsctbmi=matrix(nrow=length(c(58:88, 120:150)),ncol=2)\n",
    "index=1\n",
    "for (i in c(58:88, 120:150)) { #All thickness variables 58:88, 120:150\n",
    "    \n",
    "    scaled=((ukbb_all[[i]])-mean(ukbb_all[[i]]))/sd(ukbb_all[[i]])\n",
    "    \n",
    "    d=(summary(lm(scaled ~ \n",
    "                     scale(log(ukbb_all[[1891]]))+\n",
    "                     scale(ukbb_all[[1897]]) +\n",
    "                     as.factor(ukbb_all[[185]]) +\n",
    "                     scale(ukbb_all[[9]]), center=FALSE, qr = TRUE, maxIter=100000, Ca=0.0001)))\n",
    "    \n",
    "    Statsctbmi[index,][2]=d$coefficients[2,][4]\n",
    "    Statsctbmi[index,][1]=colnames(ukbb_all)[i]\n",
    "    index=index+1\n",
    "    \n",
    "}\n",
    "\n",
    "Statsctbmi_t=matrix(nrow=length(c(58:88, 120:150)),ncol=2)\n",
    "index=1\n",
    "for (i in c(58:88, 120:150)) { #All thickness variables 58:88, 120:150\n",
    "    \n",
    "    scaled=((ukbb_all[[i]])-mean(ukbb_all[[i]]))/sd(ukbb_all[[i]])\n",
    "    \n",
    "    d=(summary(lm(scaled ~ \n",
    "                     scale(log(ukbb_all[[1891]]))+\n",
    "                     scale(ukbb_all[[1897]]) + \n",
    "                     as.factor(ukbb_all[[185]]) +\n",
    "                     scale(ukbb_all[[9]]))))\n",
    "    \n",
    "    Statsctbmi_t[index,][2]=d$coefficients[2,][3]\n",
    "    Statsctbmi_t[index,][1]=colnames(ukbb_all)[i]\n",
    "    index=index+1\n",
    "    \n",
    "}"
   ]
  },
  {
   "cell_type": "code",
   "execution_count": 6,
   "metadata": {},
   "outputs": [],
   "source": [
    "write.table(p.adjust(Statsctbmi[,2], method = 'BH'),'/dagher/dagher11/filip/OBAL/output/wholebrainBMI_pval.csv',sep=',',quote=FALSE, row.names=FALSE)\n",
    "write.table(Statsctbmi_t[,2],'/dagher/dagher11/filip/OBAL/output/wholebrainBMI_tval.csv',sep=',',quote=FALSE, row.names=FALSE)"
   ]
  },
  {
   "cell_type": "markdown",
   "metadata": {},
   "source": [
    "## Sanity check - cortical thickness and age"
   ]
  },
  {
   "cell_type": "code",
   "execution_count": 21,
   "metadata": {},
   "outputs": [],
   "source": [
    "Statsctage=matrix(nrow=length(c(58:88, 120:150)),ncol=2)\n",
    "index=1\n",
    "for (i in c(58:88, 120:150)) { #All thickness variables 58:88, 120:150\n",
    "    \n",
    "    scaled=((ukbb_all[[i]])-mean(ukbb_all[[i]]))/sd(ukbb_all[[i]])\n",
    "    \n",
    "    d=(summary(lm(scaled ~ \n",
    "                     scale(ukbb_all[[1897]]) + \n",
    "                     as.factor(ukbb_all[[185]]) +\n",
    "                     scale(ukbb_all[[9]]), center=FALSE, qr = TRUE, maxIter=100000, Ca=0.0001)))\n",
    "    \n",
    "    Statsctage[index,][2]=d$coefficients[2,][4]\n",
    "    Statsctage[index,][1]=colnames(ukbb_all)[i]\n",
    "    index=index+1\n",
    "    \n",
    "}\n",
    "\n",
    "Statsctage_t=matrix(nrow=length(c(58:88, 120:150)),ncol=2)\n",
    "index=1\n",
    "for (i in c(58:88, 120:150)) { #All thickness variables 58:88, 120:150\n",
    "    \n",
    "    scaled=((ukbb_all[[i]])-mean(ukbb_all[[i]]))/sd(ukbb_all[[i]])\n",
    "    \n",
    "    d=(summary(lm(scaled ~ \n",
    "                     scale(ukbb_all[[1897]]) + \n",
    "                     as.factor(ukbb_all[[185]]) +\n",
    "                     scale(ukbb_all[[9]]))))\n",
    "    \n",
    "    Statsctage_t[index,][2]=d$coefficients[2,][3]\n",
    "    Statsctage_t[index,][1]=colnames(ukbb_all)[i]\n",
    "    index=index+1\n",
    "    \n",
    "}"
   ]
  },
  {
   "cell_type": "code",
   "execution_count": 22,
   "metadata": {},
   "outputs": [],
   "source": [
    "write.table(p.adjust(Statsctage[,2], method = 'BH'),'/dagher/dagher11/filip/OBAL/output/wholebrainctage_pval.csv',sep=',',quote=FALSE, row.names=FALSE)\n",
    "write.table(Statsctage_t[,2],'/dagher/dagher11/filip/OBAL/output/wholebrainctage_tval.csv',sep=',',quote=FALSE, row.names=FALSE)"
   ]
  },
  {
   "cell_type": "markdown",
   "metadata": {},
   "source": [
    "# Thickness and VAT from MRI"
   ]
  },
  {
   "cell_type": "code",
   "execution_count": 41,
   "metadata": {},
   "outputs": [],
   "source": [
    "Statsctbmi=matrix(nrow=length(c(58:88, 120:150)),ncol=2)\n",
    "index=1\n",
    "for (i in c(58:88, 120:150)) { #All thickness variables 58:88, 120:150\n",
    "    \n",
    "    scaled=((ukbb_all[[i]])-mean(ukbb_all[[i]]))/sd(ukbb_all[[i]])\n",
    "    \n",
    "    d=(summary(lm(scaled ~ \n",
    "                     scale(log(ukbb_all[[1990]]/(ukbb_all[[1993]]))) + # VAT / total trunk adipose tissue\n",
    "                     scale(ukbb_all[[1897]]) + \n",
    "                     as.factor(ukbb_all[[185]]) +\n",
    "                     scale(ukbb_all[[9]]), center=FALSE, qr = TRUE, maxIter=100000, Ca=0.0001)))\n",
    "    \n",
    "    Statsctbmi[index,][2]=d$coefficients[2,][4]\n",
    "    Statsctbmi[index,][1]=colnames(ukbb_all)[i]\n",
    "    index=index+1\n",
    "    \n",
    "}\n",
    "\n",
    "Statsctbmi_t=matrix(nrow=length(c(58:88, 120:150)),ncol=2)\n",
    "index=1\n",
    "for (i in c(58:88, 120:150)) { #All thickness variables 58:88, 120:150\n",
    "    \n",
    "    scaled=((ukbb_all[[i]])-mean(ukbb_all[[i]]))/sd(ukbb_all[[i]])\n",
    "    \n",
    "    d=(summary(lm(scaled ~ \n",
    "                     scale(log(ukbb_all[[1990]]/(ukbb_all[[1993]]))) +\n",
    "                     scale(ukbb_all[[1897]]) + \n",
    "                     as.factor(ukbb_all[[185]]) +\n",
    "                     scale(ukbb_all[[9]]))))\n",
    "    \n",
    "    Statsctbmi_t[index,][2]=d$coefficients[2,][3]\n",
    "    Statsctbmi_t[index,][1]=colnames(ukbb_all)[i]\n",
    "    index=index+1\n",
    "    \n",
    "}"
   ]
  },
  {
   "cell_type": "code",
   "execution_count": 43,
   "metadata": {},
   "outputs": [],
   "source": [
    "write.table(p.adjust(Statsctbmi[,2], method = 'BH'),'/dagher/dagher11/filip/OBAL/output/wholebrainVAT_pval.csv',sep=',',quote=FALSE, row.names=FALSE)\n",
    "write.table(Statsctbmi_t[,2],'/dagher/dagher11/filip/OBAL/output/wholebrainVAT_tval.csv',sep=',',quote=FALSE, row.names=FALSE)"
   ]
  },
  {
   "cell_type": "markdown",
   "metadata": {},
   "source": [
    "## VAT and subcortical volumes"
   ]
  },
  {
   "cell_type": "code",
   "execution_count": 44,
   "metadata": {},
   "outputs": [],
   "source": [
    "Statssubvol_VAT=matrix(nrow=length(c(26:27,32:38, 42:43, 48:54)),ncol=2)\n",
    "index=1\n",
    "for (i in c(26:27,32:38, 42:43, 48:54)) { #All thickness variables 58:88, 120:150\n",
    "    \n",
    "    scaled=((ukbb_all[[i]]/ukbb_all[[9]])-mean(ukbb_all[[i]]/ukbb_all[[9]]))/sd(ukbb_all[[i]]/ukbb_all[[9]])\n",
    "    \n",
    "    b=(summary(lm(scaled ~ \n",
    "                     scale(log(ukbb_all[[1990]]/(ukbb_all[[1993]]))) +\n",
    "                     scale(ukbb_all[[1897]]) + \n",
    "                     as.factor(ukbb_all[[185]]), center=FALSE, qr = TRUE, maxIter=100000, Ca=0.0001)))\n",
    "    \n",
    "    Statssubvol_VAT[index,][2]=b$coefficients[2,][4]\n",
    "    Statssubvol_VAT[index,][1]=colnames(ukbb_all)[i]\n",
    "    index=index+1\n",
    "    \n",
    "}\n",
    "\n",
    "StatssubvolVAT_t=matrix(nrow=length(c(26:27,32:38, 42:43, 48:54)),ncol=2)\n",
    "index=1\n",
    "for (i in c(26:27,32:38, 42:43, 48:54)) { #All thickness variables 58:88, 120:150\n",
    "    \n",
    "    scaled=((ukbb_all[[i]])-mean(ukbb_all[[i]]))/sd(ukbb_all[[i]])\n",
    "    \n",
    "    b=(summary(lm(scaled ~ \n",
    "                     scale(log(ukbb_all[[1990]]/(ukbb_all[[1993]]))) +\n",
    "                     scale(ukbb_all[[1897]]) + \n",
    "                     as.factor(ukbb_all[[185]]))))\n",
    "    \n",
    "    StatssubvolVAT_t[index,][2]=b$coefficients[2,][3]\n",
    "    StatssubvolVAT_t[index,][1]=colnames(ukbb_all)[i]\n",
    "    index=index+1\n",
    "    \n",
    "}"
   ]
  },
  {
   "cell_type": "code",
   "execution_count": 34,
   "metadata": {},
   "outputs": [],
   "source": [
    "write.table(p.adjust(Statssubvol_VAT[,2], method = 'BH'),'/dagher/dagher11/filip/OBAL/output/wholebrainVAT_pval.csv',sep=',',quote=FALSE, row.names=FALSE)\n",
    "write.table(StatssubvolVAT_t[,2],'/dagher/dagher11/filip/OBAL/output/wholebrainVAT_tval.csv',sep=',',quote=FALSE, row.names=FALSE)"
   ]
  },
  {
   "cell_type": "markdown",
   "metadata": {},
   "source": [
    "## VAT and cortical volumes"
   ]
  },
  {
   "cell_type": "code",
   "execution_count": 46,
   "metadata": {},
   "outputs": [],
   "source": [
    "StatsctxvolVAT=matrix(nrow=length(c(89:119, 151:181)),ncol=2)\n",
    "index=1\n",
    "for (i in c(89:119, 151:181)) { #All thickness variables 58:88, 120:150\n",
    "    \n",
    "    scaled=((ukbb_all[[i]]/ukbb_all[[9]])-mean(ukbb_all[[i]]/ukbb_all[[9]]))/sd(ukbb_all[[i]]/ukbb_all[[9]])\n",
    "    \n",
    "    c=(summary(lm(scaled ~ \n",
    "                     scale(log(ukbb_all[[1990]]/(ukbb_all[[1993]]))) +\n",
    "                     scale(ukbb_all[[1897]]) + \n",
    "                     as.factor(ukbb_all[[185]]), center=FALSE, qr = TRUE, maxIter=100000, Ca=0.0001)))\n",
    "    \n",
    "    StatsctxvolVAT[index,][2]=c$coefficients[2,][4]\n",
    "    StatsctxvolVAT[index,][1]=colnames(ukbb_all)[i]\n",
    "    index=index+1\n",
    "    \n",
    "}\n",
    "\n",
    "StatsctxvolVAT_t=matrix(nrow=length(c(89:119, 151:181)),ncol=2)\n",
    "index=1\n",
    "for (i in c(89:119, 151:181)) { #All thickness variables 58:88, 120:150\n",
    "    \n",
    "    scaled=((ukbb_all[[i]]/ukbb_all[[9]])-mean(ukbb_all[[i]]/ukbb_all[[9]]))/sd(ukbb_all[[i]]/ukbb_all[[9]])\n",
    "    \n",
    "    c=(summary(lm(scaled ~ \n",
    "                     scale(log(ukbb_all[[1990]]/(ukbb_all[[1993]]))) +\n",
    "                     scale(ukbb_all[[1897]]) + \n",
    "                     as.factor(ukbb_all[[185]]))))\n",
    "    \n",
    "    StatsctxvolVAT_t[index,][2]=c$coefficients[2,][3]\n",
    "    StatsctxvolVAT_t[index,][1]=colnames(ukbb_all)[i]\n",
    "    index=index+1\n",
    "    \n",
    "}"
   ]
  },
  {
   "cell_type": "code",
   "execution_count": 47,
   "metadata": {
    "scrolled": true
   },
   "outputs": [],
   "source": [
    "print(StatsctxvolVAT_t[,2][p.adjust(StatsctxvolVAT[,2], method = 'BH')<0.05])\n",
    "print(StatsctxvolVAT_t[,1][p.adjust(StatsctxvolVAT[,2], method = 'BH')<0.05])"
   ]
  },
  {
   "cell_type": "code",
   "execution_count": 48,
   "metadata": {},
   "outputs": [],
   "source": [
    "write.table(p.adjust(StatsctxvolVAT[,2], method = 'BH'),'/dagher/dagher11/filip/OBAL/output/wholebrainctxvolVAT_pval.csv',sep=',',quote=FALSE, row.names=FALSE)\n",
    "write.table(StatsctxvolVAT_t[,2],'/dagher/dagher11/filip/OBAL/output/wholebrainctxvolVAT_tval.csv',sep=',',quote=FALSE, row.names=FALSE)"
   ]
  },
  {
   "cell_type": "markdown",
   "metadata": {},
   "source": [
    "## Waist to hip ratio"
   ]
  },
  {
   "cell_type": "markdown",
   "metadata": {},
   "source": [
    "## CT"
   ]
  },
  {
   "cell_type": "code",
   "execution_count": 155,
   "metadata": {},
   "outputs": [],
   "source": [
    "StatsctWHR=matrix(nrow=length(c(58:88, 120:150)),ncol=2)\n",
    "index=1\n",
    "for (i in c(58:88, 120:150)) { #All thickness variables 58:88, 120:150\n",
    "    \n",
    "    scaled=((ukbb_all[[i]])-mean(ukbb_all[[i]]))/sd(ukbb_all[[i]])\n",
    "    \n",
    "    d=(summary(lm(scaled ~ \n",
    "                     scale(ukbb_all$waist_circumference_f48_2_0/ukbb_all$hip_circumference_f49_2_0) +\n",
    "                     scale(ukbb_all[[1897]]) + \n",
    "                     as.factor(ukbb_all[[185]]) +\n",
    "                     scale(ukbb_all[[9]]), center=FALSE, qr = TRUE, maxIter=100000, Ca=0.0001)))\n",
    "    \n",
    "    StatsctWHR[index,][2]=d$coefficients[2,][4]\n",
    "    StatsctWHR[index,][1]=colnames(ukbb_all)[i]\n",
    "    index=index+1\n",
    "    \n",
    "}\n",
    "\n",
    "StatsctWHR_t=matrix(nrow=length(c(58:88, 120:150)),ncol=2)\n",
    "index=1\n",
    "for (i in c(58:88, 120:150)) { #All thickness variables 58:88, 120:150\n",
    "    \n",
    "    scaled=((ukbb_all[[i]])-mean(ukbb_all[[i]]))/sd(ukbb_all[[i]])\n",
    "    \n",
    "    d=(summary(lm(scaled ~ \n",
    "                     scale(ukbb_all$waist_circumference_f48_2_0/ukbb_all$hip_circumference_f49_2_0) +\n",
    "                     scale(ukbb_all[[1897]]) + \n",
    "                     as.factor(ukbb_all[[185]]) +\n",
    "                     scale(ukbb_all[[9]]))))\n",
    "    \n",
    "    StatsctWHR_t[index,][2]=d$coefficients[2,][3]\n",
    "    StatsctWHR_t[index,][1]=colnames(ukbb_all)[i]\n",
    "    index=index+1\n",
    "    \n",
    "}"
   ]
  },
  {
   "cell_type": "code",
   "execution_count": 157,
   "metadata": {},
   "outputs": [],
   "source": [
    "write.table(p.adjust(StatsctWHR[,2], method = 'BH'),'/dagher/dagher11/filip/OBAL/output/wholebrainCTWHR_pval.csv',sep=',',quote=FALSE, row.names=FALSE)\n",
    "write.table(StatsctWHR_t[,2],'/dagher/dagher11/filip/OBAL/output/wholebrainCTWHR_tval.csv',sep=',',quote=FALSE, row.names=FALSE)"
   ]
  },
  {
   "cell_type": "markdown",
   "metadata": {},
   "source": [
    "## Cortical volume"
   ]
  },
  {
   "cell_type": "code",
   "execution_count": 158,
   "metadata": {},
   "outputs": [],
   "source": [
    "StatsvolWHR=matrix(nrow=length(c(89:119, 151:181)),ncol=2)\n",
    "index=1\n",
    "for (i in c(89:119, 151:181)) { #All thickness variables 58:88, 120:150\n",
    "    \n",
    "    scaled=((ukbb_all[[i]]/ukbb_all[[9]])-mean(ukbb_all[[i]]/ukbb_all[[9]]))/sd(ukbb_all[[i]]/ukbb_all[[9]])\n",
    "    \n",
    "    c=(summary(lm(scaled ~ \n",
    "                     scale(ukbb_all$waist_circumference_f48_2_0/ukbb_all$hip_circumference_f49_2_0) +\n",
    "                     scale(ukbb_all[[1897]]) + \n",
    "                     as.factor(ukbb_all[[185]]), center=FALSE, qr = TRUE, maxIter=100000, Ca=0.0001)))\n",
    "    \n",
    "    StatsvolWHR[index,][2]=c$coefficients[2,][4]\n",
    "    StatsvolWHR[index,][1]=colnames(ukbb_all)[i]\n",
    "    index=index+1\n",
    "    \n",
    "}\n",
    "\n",
    "StatsvolWHR_t=matrix(nrow=length(c(89:119, 151:181)),ncol=2)\n",
    "index=1\n",
    "for (i in c(89:119, 151:181)) { #All thickness variables 58:88, 120:150\n",
    "    \n",
    "    scaled=((ukbb_all[[i]]/ukbb_all[[9]])-mean(ukbb_all[[i]]/ukbb_all[[9]]))/sd(ukbb_all[[i]]/ukbb_all[[9]])\n",
    "    \n",
    "    c=(summary(lm(scaled ~ \n",
    "                     scale(ukbb_all$waist_circumference_f48_2_0/ukbb_all$hip_circumference_f49_2_0) +\n",
    "                     scale(ukbb_all[[1897]]) + \n",
    "                     as.factor(ukbb_all[[185]]))))\n",
    "    \n",
    "    StatsvolWHR_t[index,][2]=c$coefficients[2,][3]\n",
    "    StatsvolWHR_t[index,][1]=colnames(ukbb_all)[i]\n",
    "    index=index+1\n",
    "    \n",
    "}"
   ]
  },
  {
   "cell_type": "code",
   "execution_count": 159,
   "metadata": {
    "scrolled": true
   },
   "outputs": [],
   "source": [
    "write.table(p.adjust(StatsvolWHR[,2], method = 'BH'),'/dagher/dagher11/filip/OBAL/output/wholebrainVOLWHR_pval.csv',sep=',',quote=FALSE, row.names=FALSE)\n",
    "write.table(StatsvolWHR_t[,2],'/dagher/dagher11/filip/OBAL/output/wholebrainVOLWHR_tval.csv',sep=',',quote=FALSE, row.names=FALSE)"
   ]
  },
  {
   "cell_type": "markdown",
   "metadata": {},
   "source": [
    "## Subcortical volumes"
   ]
  },
  {
   "cell_type": "code",
   "execution_count": 160,
   "metadata": {},
   "outputs": [],
   "source": [
    "Statssubvol_WHR=matrix(nrow=length(c(26:27,32:38, 42:43, 48:54)),ncol=2)\n",
    "index=1\n",
    "for (i in c(26:27,32:38, 42:43, 48:54)) { #All thickness variables 58:88, 120:150\n",
    "    \n",
    "    scaled=((ukbb_all[[i]]/ukbb_all[[9]])-mean(ukbb_all[[i]]/ukbb_all[[9]]))/sd(ukbb_all[[i]]/ukbb_all[[9]])\n",
    "    \n",
    "    b=(summary(lm(scaled ~ \n",
    "                     scale(ukbb_all$waist_circumference_f48_2_0/ukbb_all$hip_circumference_f49_2_0) +\n",
    "                     scale(ukbb_all[[1897]]) + \n",
    "                     as.factor(ukbb_all[[185]]), center=FALSE, qr = TRUE, maxIter=100000, Ca=0.0001)))\n",
    "    \n",
    "    Statssubvol_WHR[index,][2]=b$coefficients[2,][4]\n",
    "    Statssubvol_WHR[index,][1]=colnames(ukbb_all)[i]\n",
    "    index=index+1\n",
    "    \n",
    "}\n",
    "\n",
    "Statssubvol_WHR_t=matrix(nrow=length(c(26:27,32:38, 42:43, 48:54)),ncol=2)\n",
    "index=1\n",
    "for (i in c(26:27,32:38, 42:43, 48:54)) { #All thickness variables 58:88, 120:150\n",
    "    \n",
    "    scaled=((ukbb_all[[i]])-mean(ukbb_all[[i]]))/sd(ukbb_all[[i]])\n",
    "    \n",
    "    b=(summary(lm(scaled ~ \n",
    "                     scale(ukbb_all$waist_circumference_f48_2_0/ukbb_all$hip_circumference_f49_2_0) +\n",
    "                     scale(ukbb_all[[1897]]) + \n",
    "                     as.factor(ukbb_all[[185]]))))\n",
    "    \n",
    "    Statssubvol_WHR_t[index,][2]=b$coefficients[2,][3]\n",
    "    Statssubvol_WHR_t[index,][1]=colnames(ukbb_all)[i]\n",
    "    index=index+1\n",
    "    \n",
    "}"
   ]
  },
  {
   "cell_type": "code",
   "execution_count": 161,
   "metadata": {},
   "outputs": [],
   "source": [
    "Statssubvol_WHR_t[p.adjust(Statssubvol_WHR[,2], method='BH')<0.05]"
   ]
  }
 ],
 "metadata": {
  "kernelspec": {
   "display_name": "R",
   "language": "R",
   "name": "ir"
  },
  "language_info": {
   "codemirror_mode": "r",
   "file_extension": ".r",
   "mimetype": "text/x-r-source",
   "name": "R",
   "pygments_lexer": "r",
   "version": "3.5.1"
  }
 },
 "nbformat": 4,
 "nbformat_minor": 2
}

