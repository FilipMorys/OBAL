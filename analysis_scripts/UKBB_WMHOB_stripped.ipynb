{
 "cells": [
  {
   "cell_type": "markdown",
   "metadata": {},
   "source": [
    "# Script to analyse UKBB whole brain data in the WMHOB project"
   ]
  },
  {
   "cell_type": "markdown",
   "metadata": {},
   "source": [
    "## Load packages"
   ]
  },
  {
   "cell_type": "code",
   "execution_count": 3,
   "metadata": {},
   "outputs": [],
   "source": [
    "library(ppcor)\n",
    "#install.packages('lmPerm')\n",
    "library(lmPerm)\n",
    "library(psych)\n",
    "library(car)\n",
    "library(ggplot2)\n",
    "library(lme4)\n",
    "library(mediation)\n",
    "library(caret)\n",
    "library(gbm)\n",
    "library(party)\n",
    "library(Metrics)\n",
    "#install.packages(\"wesanderson\")\n",
    "library(wesanderson)\n",
    "library(gtools)\n",
    "library(interactions)\n",
    "#install.packages('ggstance')\n",
    "library(ggstance)\n",
    "#install.packages('elasticnet')\n",
    "library(elasticnet)\n",
    "#install.packages('kernlab')\n",
    "library(kernlab)\n",
    "#install.packages('e1071')\n",
    "library(e1071)\n",
    "#install.packages('MatchIt')\n",
    "library(MatchIt)\n",
    "library(dplyr)\n",
    "library(ukbtools)"
   ]
  },
  {
   "cell_type": "markdown",
   "metadata": {},
   "source": [
    "# Load data and exclude participants\n",
    "Exclusion criteria:\n",
    "- Bipolar disorder\n",
    "- Personality disorders\n",
    "- Schizophrenia\n",
    "- Depression\n",
    "- Mania\n",
    "- Bulimia nervosa\n",
    "- Anorexia nervosa\n",
    "- ADD/ADHD\n",
    "- Panic attacks\n",
    "- Diabetes\n",
    "- Hypertension\n",
    "- Neurological disorders\n",
    "- Underweight (BMI<18.5)"
   ]
  },
  {
   "cell_type": "code",
   "execution_count": 4,
   "metadata": {},
   "outputs": [],
   "source": [
    "my_ukb_data <- ukb_df(\"ukb38276\", path = \"/dagher/dagher11/filip/OBAL/UKBB_data/\")\n",
    "load(\"/home/bic/fmorys/Projects/UKBB_all/di.Rda\")\n",
    "colnames(di)=c('eid',colnames(di)[2:length(di)])\n",
    "ukb_area <- ukb_df('ukb40807', path = \"/dagher/dagher11/filip/OBAL/UKBB_data/\")\n",
    "glob2rx(\"area_of*_2_*\") # Create a regexp to use in grep\n",
    "ukbb_area=(ukb_area[c(1, grep('^area_of.*_2_',colnames(ukb_area)))])\n",
    "\n",
    "### Exclude outliers in the imaging dataset (n=22k)\n",
    "di$bipolar_dis <- NA\n",
    "di$bipolar_dis[di$bipolar_disorder_status_f20122_0_0==\"Bipolar Type I (Mania)\"] <- 1\n",
    "di$bipolar_dis[di$bipolar_disorder_status_f20122_0_0==\"Bipolar Type II (Hypomania)\"] <- 1\n",
    "\n",
    "#Personality Disorders\n",
    "di$personality_dis <- NA\n",
    "for (i in as.numeric(grep('mental_health_problems_ever_diagnosed_by_a_professional', \n",
    "                          colnames(di)))) { #Columns with mental illness\n",
    "di$personality_dis[di[i]==\"A personality disorder\"] <- 1\n",
    "}\n",
    "\n",
    "#Mental health issues\n",
    "di$depression <- NA\n",
    "for (i in as.numeric(grep('mental_health_problems_ever_diagnosed_by_a_professional', \n",
    "                          colnames(di)))) { #Columns with mental illness\n",
    "#di$schizophrenia[di[i]==\"Schizophrenia\"] <- 1\n",
    "di$depression[di[i]==\"Depression\"] <- 1\n",
    "#di$schizophrenia[di[i]==\"Mania, hypomania, bipolar or manic-depression\"] <- 1\n",
    "#di$schizophrenia[di[i]==\"Bulimia nervosa\"] <- 1\n",
    "#di$schizophrenia[di[i]==\"Anorexia nervosa\"] <- 1\n",
    "#di$schizophrenia[di[i]==\"Attention deficit or attention deficit and hyperactivity disorder (ADD/ADHD)\"] <- 1\n",
    "#di$schizophrenia[di[i]==\"Panic attacks\"] <- 1\n",
    "}\n",
    "\n",
    "\n",
    "# Exclude participants who have diabetes\n",
    "di$vascular_heart_diagnoses <- NA\n",
    "for (i in as.numeric(grep('diabetes_diagnosed_by_doctor_f2443_0', \n",
    "                          colnames(di)))) { #Columns with vascular diseases\n",
    "di$diabetes[di[i] ==\"Yes\"] <- 1\n",
    "}\n",
    "\n",
    "# Exclude participants who had a heart attack, angina or stroke\n",
    "di$vascular_heart_diagnoses <- NA\n",
    "for (i in as.numeric(grep('vascularheart_problems_diagnosed_by_doctor_f6150_0', \n",
    "                          colnames(di)))) { #Columns with vascular diseases\n",
    "di$vascular_heart_diagnoses[di[i] ==\"High blood pressure\"] <- 1\n",
    "}\n",
    "\n",
    "\n",
    "\n",
    "#Dementia\n",
    "for (i in as.numeric(grep('noncancer_illness_code_selfreported', \n",
    "                          colnames(di)))) { #Columns with noncancer illness for all timepoints\n",
    "di$neurological_disorder[di[i] == \"1263\"] <- 1 #Dementia or Alzheimer's\n",
    "di$neurological_disorder[di[i] == \"1262\"] <- 1 #Parkinson Disease\n",
    "di$neurological_disorder[di[i] == \"1258\"] <- 1 #Chronic degenerative neurological\n",
    "di$neurological_disorder[di[i] == \"1256\"] <- 1 #Guillain Barré\n",
    "di$neurological_disorder[di[i] == \"1261\"] <- 1 #Multiple slerosis\n",
    "di$neurological_disorder[di[i] == \"1297\"] <- 1 #Other demyenilating disease\n",
    "di$neurological_disorder[di[i] == \"1081\"] <- 1 #Stroke\n",
    "di$neurological_disorder[di[i] == \"1032\"] <- 1 #Brain cancer\n",
    "di$neurological_disorder[di[i] == \"1491\"] <- 1 #Brain hemorrhage\n",
    "di$neurological_disorder[di[i] == \"1245\"] <- 1 #Brain/ intracranial abcess\n",
    "di$neurological_disorder[di[i] == \"1425\"] <- 1 #Cerebral aneurism\n",
    "di$neurological_disorder[di[i] == \"1433\"] <- 1 #Cerebral palsy\n",
    "di$neurological_disorder[di[i] == \"1256\"] <- 1 #Encephalitis\n",
    "di$neurological_disorder[di[i] == \"1264\"] <- 1 #Epilepsy\n",
    "di$neurological_disorder[di[i] == \"1266\"] <- 1 #Head injury\n",
    "di$neurological_disorder[di[i] == \"1244\"] <- 1 #Infections of the nervous system\n",
    "di$neurological_disorder[di[i] == \"1583\"] <- 1 #Ischaemic stroke\n",
    "di$neurological_disorder[di[i] == \"1031\"] <- 1 #Meningeal cancer\n",
    "di$neurological_disorder[di[i] == \"1659\"] <- 1 #Meningioma (benign)\n",
    "di$neurological_disorder[di[i] == \"1247\"] <- 1 #Meningitis\n",
    "di$neurological_disorder[di[i] == \"1259\"] <- 1 #Motor neuron disease\n",
    "di$neurological_disorder[di[i] == \"1240\"] <- 1 #Neurological injury/trauma\n",
    "di$neurological_disorder[di[i] == \"1524\"] <- 1 #Spina bifida\n",
    "di$neurological_disorder[di[i] == \"1083\"] <- 1 #Subdural hematoma\n",
    "di$neurological_disorder[di[i] == \"1086\"] <- 1 #Subarachnoid haemorrage\n",
    "di$neurological_disorder[di[i] == \"1082\"] <- 1 #Transient ischaemic attack\n",
    "}\n",
    "\n",
    "#If BMI < 18.5 (Re-do this, cause it's not usually done)\n",
    "#di$underweight1[di$body_mass_index_bmi_f21001_0_0 < 18.5] <- 1\n",
    "#di$underweight2[di$body_mass_index_bmi_f21001_1_0 < 18.5] <- 1\n",
    "di$underweight3[di$body_mass_index_bmi_f21001_2_0 < 18.5] <- 1\n",
    "\n",
    "#Exclude participants if no neuroimaging data, bipolar_dis == 1; personality_dis == 1; schizophrenia == 1; vascular_heart_diagnoses ==1\n",
    "\n",
    "di$excluded <- NA\n",
    "##di$excluded[di$bipolar_dis ==1] <- 1\n",
    "#di$excluded[di$personality_dis == 1] <- 1\n",
    "#di$excluded[di$schizophrenia == 1] <- 1\n",
    "#di$excluded[di$vascular_heart_diagnoses ==1] <- 1\n",
    "#di$excluded[di$underweight1 ==1] <- 1\n",
    "#di$excluded[di$underweight2 ==1] <- 1\n",
    "#di$excluded[di$underweight3 == 1] <- 1\n",
    "di$excluded[di$neurological_disorder ==1] <- 1\n",
    "#di$excluded[di$diabetes ==1] <- 1\n",
    "\n",
    "di$included<-car::recode(di$excluded, \"1='excluded'; else='included'\")\n",
    "\n",
    "\n",
    "#Select subjects if included ==1\n",
    "di_excluded <- subset(di, included==\"included\")\n",
    "\n",
    "ukbb_all=merge(my_ukb_data, di_excluded, by.x='eid')\n",
    "ukbb_all=merge(ukbb_all, ukbb_area, by='eid',all.x=TRUE)\n",
    "\n",
    "nrow(ukbb_all)\n",
    "\n",
    "ukbb_all$WMH_logscaled=log(ukbb_all$total_volume_of_white_matter_hyperintensities_from_t1_and_t2_flair_images_f25781_2_0*\n",
    "                    ukbb_all$volume_of_brain_greywhite_matter_f25010_2_0)\n",
    "ukbb_all$logBMI3=log(ukbb_all$body_mass_index_bmi_f21001_0_0)\n",
    "ukbb_all$WHR=ukbb_all$waist_circumference_f48_0_0/ukbb_all$hip_circumference_f49_0_0\n",
    "\n",
    "## Merge with white matter integrity variables\n",
    "ukb_WM <- ukb_df('ukb35375', path = \"/dagher/dagher11/filip/OBAL/UKBB_data/\")\n",
    "ukbb_all=merge(ukbb_all,ukb_WM,by='eid',all.x=TRUE)\n",
    "\n",
    "#Remove outliers\n",
    "variables_for_outliers=c(58:88, 120:150, 26:27, 32:38, 42:43, 48:54, 89:119, \n",
    "                         151:181, 9, 2287:2300, 2126, 5094:5096, 5120:5215,\n",
    "                         grep('^area_of.*_2_',colnames(ukbb_all))) # all volume and thickness variables from FS, BMI, eTIV, area\n",
    "\n",
    "for (j in variables_for_outliers) { # \n",
    "    Q3=as.numeric(quantile(ukbb_all[j],0.75, na.rm=TRUE))\n",
    "    Q1=as.numeric(quantile(ukbb_all[j],0.25, na.rm=TRUE))\n",
    "    upper=Q3+(2.2*(Q3-Q1))\n",
    "    lower=Q1-(2.2*(Q3-Q1))\n",
    "    ukbb_all[j][ukbb_all[j]<lower]=NA\n",
    "    ukbb_all[j][ukbb_all[j]>upper]=NA\n",
    "}\n",
    "\n",
    "ukbb_all=ukbb_all[complete.cases(ukbb_all[,c(5094:5096, 2003)]),] # BMI, WMH, WHR\n",
    "nrow(ukbb_all)\n",
    "\n",
    "\n",
    "ukbb_all$Hypertension=0\n",
    "ukbb_all$Hypertension[ukbb_all$vascular_heart_diagnoses=='1']=1\n",
    "ukbb_all$Diabetes=0\n",
    "ukbb_all$Diabetes[ukbb_all$diabetes=='1']=1\n",
    "ukbb_all$Depression=0\n",
    "ukbb_all$Depression[ukbb_all$depression=='1']=1\n",
    "\n",
    "PA=read.table('/dagher/dagher11/filip/OBAL/alcohol.csv',sep=',',header=T)\n",
    "ukbb_all=merge(ukbb_all,PA,by='eid',all.x=T)\n",
    "ukbb_all$Sex=ukbb_all$sex_f31_0_0"
   ]
  },
  {
   "cell_type": "markdown",
   "metadata": {},
   "source": [
    "# Create separate dataframes for each imaging feature set:\n",
    "- cortical thickness\n",
    "- cortical volume\n",
    "- subcortical volume as derived from FSL\n",
    "- surface area"
   ]
  },
  {
   "cell_type": "code",
   "execution_count": 5,
   "metadata": {},
   "outputs": [],
   "source": [
    "ukbb_ct=ukbb_all[complete.cases(ukbb_all[,c(58:88, 120:150, 1897, 447, 5554, 5560, 5559, 1732, 242, 1126)]),] # CT\n",
    "ukbb_ctxvol=ukbb_all[complete.cases(ukbb_all[,c(89:119, 151:181, 9, 1897, 447, 5554, 5560, 5559, 1732, 242, 1126)]),]\n",
    "ukbb_subvol=ukbb_all[complete.cases(ukbb_all[,c(2287:2300, 9, 1897, 447, 5554, 5560, 5559, 1732, 242, 1126)]),]\n",
    "ukbb_area=ukbb_all[complete.cases(ukbb_all[,c(grep('^area_of.*_2_',colnames(ukbb_all)))]),]"
   ]
  },
  {
   "cell_type": "code",
   "execution_count": 6,
   "metadata": {},
   "outputs": [],
   "source": [
    "nrow(ukbb_ct)\n",
    "nrow(ukbb_ctxvol)\n",
    "nrow(ukbb_subvol)\n",
    "nrow(ukbb_area)"
   ]
  },
  {
   "cell_type": "markdown",
   "metadata": {},
   "source": [
    "## BMI and subcortical volumes"
   ]
  },
  {
   "cell_type": "code",
   "execution_count": 7,
   "metadata": {
    "scrolled": true
   },
   "outputs": [],
   "source": [
    "StatssubvolFSL_BMI=matrix(nrow=length(c(2287:2300)),ncol=3)\n",
    "index=1\n",
    "for (i in c(2287:2300)) { #All thickness variables 58:88, 120:150\n",
    "    \n",
    "    scaled=((ukbb_subvol[[i]]/ukbb_subvol[[9]])-mean(ukbb_subvol[[i]]/ukbb_subvol[[9]]))/\n",
    "    sd(ukbb_subvol[[i]]/ukbb_subvol[[9]])\n",
    "    \n",
    "    b=(summary(lm(scaled ~ \n",
    "                     scale((ukbb_subvol$logBMI3)) + age_when_attended_assessment_centre_f21003_2_0\n",
    "                                 + average_total_household_income_before_tax_f738_2_0 + Sex\n",
    "                                 + Depression + frequency_of_drinking_alcohol_20414.0.0\n",
    "                                 + number_of_daysweek_of_vigorous_physical_activity_10._minutes_904.2.0 \n",
    "                                 + smoking_status_f20116_2_0 + qualifications_f6138_2_0 +\n",
    "                                 + townsend_deprivation_index_at_recruitment_f189_0_0\n",
    ", data=ukbb_subvol, center=FALSE, qr = TRUE, maxIter=100000, Ca=0.0001)))\n",
    "\n",
    "    StatssubvolFSL_BMI[index,][2]=b$coefficients[2,][4]\n",
    "    StatssubvolFSL_BMI[index,][1]=colnames(ukbb_subvol)[i]\n",
    "    index=index+1\n",
    "    \n",
    "}\n",
    "\n",
    "StatssubvolFSL_BMI_t=matrix(nrow=length(c(2287:2300)),ncol=2)\n",
    "index=1\n",
    "for (i in c(2287:2300)) { #All thickness variables 58:88, 120:150\n",
    "    \n",
    "    scaled=((ukbb_subvol[[i]]/ukbb_subvol[[9]])-mean(ukbb_subvol[[i]]/ukbb_subvol[[9]]))/\n",
    "    sd(ukbb_subvol[[i]]/ukbb_subvol[[9]], na.rm=TRUE)\n",
    "    \n",
    "    b=(summary(lm(scaled ~ \n",
    "                     scale((ukbb_subvol$logBMI3)) + \n",
    "               age_when_attended_assessment_centre_f21003_2_0\n",
    "                                 + average_total_household_income_before_tax_f738_2_0 + Sex\n",
    "                                 + Depression + frequency_of_drinking_alcohol_20414.0.0\n",
    "                                 + number_of_daysweek_of_vigorous_physical_activity_10._minutes_904.2.0 \n",
    "                                 + smoking_status_f20116_2_0 + qualifications_f6138_2_0 +\n",
    "                                 + townsend_deprivation_index_at_recruitment_f189_0_0, data=ukbb_subvol)))\n",
    "\n",
    "    StatssubvolFSL_BMI_t[index,][2]=b$coefficients[2,][3]\n",
    "    StatssubvolFSL_BMI_t[index,][1]=colnames(ukbb_subvol)[i]\n",
    "    index=index+1\n",
    "    \n",
    "}"
   ]
  },
  {
   "cell_type": "code",
   "execution_count": 8,
   "metadata": {
    "scrolled": true
   },
   "outputs": [],
   "source": [
    "(StatssubvolFSL_BMI_t[p.adjust(StatssubvolFSL_BMI[,2], method = 'BH')<0.05])"
   ]
  },
  {
   "cell_type": "code",
   "execution_count": 9,
   "metadata": {},
   "outputs": [],
   "source": [
    "write.table(p.adjust(StatssubvolFSL_BMI[,2], method = 'BH'),'/dagher/dagher11/filip/OBAL/output/FSL_BMI_pvalue.csv',sep=',',quote=FALSE, row.names=FALSE)\n",
    "write.table((StatssubvolFSL_BMI_t[,2]),'/dagher/dagher11/filip/OBAL/output/FSL_BMI_tvalue.csv',sep=',',quote=FALSE, row.names=FALSE)\n"
   ]
  },
  {
   "cell_type": "markdown",
   "metadata": {},
   "source": [
    "## BMI and cortical volume"
   ]
  },
  {
   "cell_type": "code",
   "execution_count": 94,
   "metadata": {},
   "outputs": [],
   "source": [
    "ukbb_ctxvol$a2=ukbb_ctxvol$age_when_attended_assessment_centre_f21003_2_0*ukbb_ctxvol$age_when_attended_assessment_centre_f21003_2_0"
   ]
  },
  {
   "cell_type": "code",
   "execution_count": 95,
   "metadata": {},
   "outputs": [],
   "source": [
    "StatsctxvolBMI=matrix(nrow=length(c(89:119, 151:181)),ncol=2)\n",
    "index=1\n",
    "for (i in c(89:119, 151:181)) { #All thickness variables 58:88, 120:150\n",
    "    \n",
    "    scaled=((ukbb_ctxvol[[i]]/ukbb_ctxvol[[9]])-mean(ukbb_ctxvol[[i]]/ukbb_ctxvol[[9]]))/sd(ukbb_ctxvol[[i]]/ukbb_ctxvol[[9]])\n",
    "    \n",
    "    c=(summary(lm(scaled ~ \n",
    "                     scale(ukbb_ctxvol$logBMI3) + age_when_attended_assessment_centre_f21003_2_0\n",
    "                                 + average_total_household_income_before_tax_f738_2_0 + Sex\n",
    "                                 + Depression + frequency_of_drinking_alcohol_20414.0.0\n",
    "                                 + number_of_daysweek_of_vigorous_physical_activity_10._minutes_904.2.0 \n",
    "                                 + smoking_status_f20116_2_0 + qualifications_f6138_2_0 +\n",
    "                                 + townsend_deprivation_index_at_recruitment_f189_0_0, data=ukbb_ctxvol, center=FALSE, qr = TRUE, maxIter=100000, Ca=0.0001)))\n",
    "    \n",
    "    StatsctxvolBMI[index,][2]=c$coefficients[2,][4]\n",
    "    StatsctxvolBMI[index,][1]=colnames(ukbb_ctxvol)[i]\n",
    "    index=index+1\n",
    "    \n",
    "}\n",
    "\n",
    "StatsctxvolBMI_t=matrix(nrow=length(c(89:119, 151:181)),ncol=2)\n",
    "index=1\n",
    "for (i in c(89:119, 151:181)) { #All thickness variables 58:88, 120:150\n",
    "    \n",
    "    scaled=((ukbb_ctxvol[[i]]/ukbb_ctxvol[[9]])-mean(ukbb_ctxvol[[i]]/ukbb_ctxvol[[9]]))/sd(ukbb_ctxvol[[i]]/ukbb_ctxvol[[9]])\n",
    "    \n",
    "    c=(summary(lm(scaled ~ \n",
    "                     scale(ukbb_ctxvol$logBMI3)+ age_when_attended_assessment_centre_f21003_2_0\n",
    "                                 + average_total_household_income_before_tax_f738_2_0 + Sex\n",
    "                                 + Depression + frequency_of_drinking_alcohol_20414.0.0\n",
    "                                 + number_of_daysweek_of_vigorous_physical_activity_10._minutes_904.2.0 \n",
    "                                 + smoking_status_f20116_2_0 + qualifications_f6138_2_0 +\n",
    "                                 + townsend_deprivation_index_at_recruitment_f189_0_0, data=ukbb_ctxvol)))\n",
    "    \n",
    "    StatsctxvolBMI_t[index,][2]=c$coefficients[2,][3]\n",
    "    StatsctxvolBMI_t[index,][1]=colnames(ukbb_ctxvol)[i]\n",
    "    index=index+1\n",
    "    \n",
    "}"
   ]
  },
  {
   "cell_type": "code",
   "execution_count": 96,
   "metadata": {},
   "outputs": [],
   "source": [
    "write.table(p.adjust(StatsctxvolBMI[,2], method = 'BH'),'/dagher/dagher11/filip/OBAL/output/wholebrainvolctxBMI_pval.csv',sep=',',quote=FALSE, row.names=FALSE)\n",
    "write.table(StatsctxvolBMI_t[,2],'/dagher/dagher11/filip/OBAL/output/wholebrainvolctxBMI_tval.csv',sep=',',quote=FALSE, row.names=FALSE)"
   ]
  },
  {
   "cell_type": "code",
   "execution_count": 97,
   "metadata": {
    "scrolled": false
   },
   "outputs": [],
   "source": [
    "print(StatsctxvolBMI_t[p.adjust(StatsctxvolBMI[,2], method = 'BH')<0.05])"
   ]
  },
  {
   "cell_type": "markdown",
   "metadata": {},
   "source": [
    "## Thickness and BMI"
   ]
  },
  {
   "cell_type": "code",
   "execution_count": 98,
   "metadata": {
    "scrolled": true
   },
   "outputs": [],
   "source": [
    "Statsctbmi=matrix(nrow=length(c(58:88, 120:150)),ncol=2)\n",
    "index=1\n",
    "for (i in c(58:88, 120:150)) { #All thickness variables 58:88, 120:150\n",
    "    \n",
    "    scaled=((ukbb_ct[[i]])-mean(ukbb_ct[[i]]))/sd(ukbb_ct[[i]])\n",
    "    \n",
    "    d=(summary(lm(scaled ~ \n",
    "                     scale((ukbb_ct$logBMI3))  + \n",
    "             age_when_attended_assessment_centre_f21003_2_0\n",
    "                                 + average_total_household_income_before_tax_f738_2_0 + Sex\n",
    "                                 + Depression + frequency_of_drinking_alcohol_20414.0.0\n",
    "                                 + number_of_daysweek_of_vigorous_physical_activity_10._minutes_904.2.0 \n",
    "                                 + smoking_status_f20116_2_0 + qualifications_f6138_2_0 +\n",
    "                                 + townsend_deprivation_index_at_recruitment_f189_0_0, data=ukbb_ct, center=FALSE, qr = TRUE, maxIter=100000, Ca=0.0001)))\n",
    "    \n",
    "    Statsctbmi[index,][2]=d$coefficients[2,][4]\n",
    "    Statsctbmi[index,][1]=colnames(ukbb_ct)[i]\n",
    "    index=index+1\n",
    "    \n",
    "}\n",
    "\n",
    "Statsctbmi_t=matrix(nrow=length(c(58:88, 120:150)),ncol=2)\n",
    "index=1\n",
    "for (i in c(58:88, 120:150)) { #All thickness variables 58:88, 120:150\n",
    "    \n",
    "    scaled=((ukbb_ct[[i]])-mean(ukbb_ct[[i]]))/sd(ukbb_ct[[i]])\n",
    "    \n",
    "    d=(summary(lm(scaled ~ \n",
    "                     scale((ukbb_ct$logBMI3)) + age_when_attended_assessment_centre_f21003_2_0\n",
    "                                 + average_total_household_income_before_tax_f738_2_0 + Sex\n",
    "                                 + Depression + frequency_of_drinking_alcohol_20414.0.0\n",
    "                                 + number_of_daysweek_of_vigorous_physical_activity_10._minutes_904.2.0 \n",
    "                                 + smoking_status_f20116_2_0 + qualifications_f6138_2_0 +\n",
    "                                 + townsend_deprivation_index_at_recruitment_f189_0_0, data=ukbb_ct)))\n",
    "    \n",
    "    Statsctbmi_t[index,][2]=d$coefficients[2,][3]\n",
    "    Statsctbmi_t[index,][1]=colnames(ukbb_ct)[i]\n",
    "    index=index+1\n",
    "    \n",
    "}"
   ]
  },
  {
   "cell_type": "code",
   "execution_count": 99,
   "metadata": {},
   "outputs": [],
   "source": [
    "write.table(p.adjust(Statsctbmi[,2], method = 'BH'),'/dagher/dagher11/filip/OBAL/output/wholebrainBMI_pval.csv',sep=',',quote=FALSE, row.names=FALSE)\n",
    "write.table(Statsctbmi_t[,2],'/dagher/dagher11/filip/OBAL/output/wholebrainBMI_tval.csv',sep=',',quote=FALSE, row.names=FALSE)"
   ]
  },
  {
   "cell_type": "code",
   "execution_count": 100,
   "metadata": {},
   "outputs": [],
   "source": [
    "print(Statsctbmi_t[p.adjust(Statsctbmi[,2], method = 'BH')<0.05])"
   ]
  },
  {
   "cell_type": "markdown",
   "metadata": {},
   "source": [
    "## Waist to hip ratio"
   ]
  },
  {
   "cell_type": "markdown",
   "metadata": {},
   "source": [
    "## CT"
   ]
  },
  {
   "cell_type": "code",
   "execution_count": 37,
   "metadata": {},
   "outputs": [],
   "source": [
    "StatsctWHR=matrix(nrow=length(c(58:88, 120:150)),ncol=2)\n",
    "index=1\n",
    "for (i in c(58:88, 120:150)) { #All thickness variables 58:88, 120:150\n",
    "    \n",
    "    scaled=((ukbb_ct[[i]])-mean(ukbb_ct[[i]]))/sd(ukbb_ct[[i]])\n",
    "    \n",
    "    d=(summary(lm(scaled ~ \n",
    "                     scale(ukbb_ct$WHR) + age_when_attended_assessment_centre_f21003_2_0\n",
    "                                 + average_total_household_income_before_tax_f738_2_0 + Sex\n",
    "                                 + Depression + frequency_of_drinking_alcohol_20414.0.0\n",
    "                                 + number_of_daysweek_of_vigorous_physical_activity_10._minutes_904.2.0 \n",
    "                                 + smoking_status_f20116_2_0 + qualifications_f6138_2_0 +\n",
    "                                 + townsend_deprivation_index_at_recruitment_f189_0_0, data=ukbb_ct, center=FALSE, qr = TRUE, maxIter=100000, Ca=0.0001)))\n",
    "    \n",
    "    StatsctWHR[index,][2]=d$coefficients[2,][4]\n",
    "    StatsctWHR[index,][1]=colnames(ukbb_ct)[i]\n",
    "    index=index+1\n",
    "    \n",
    "}\n",
    "\n",
    "StatsctWHR_t=matrix(nrow=length(c(58:88, 120:150)),ncol=2)\n",
    "index=1\n",
    "for (i in c(58:88, 120:150)) { #All thickness variables 58:88, 120:150\n",
    "    \n",
    "    scaled=((ukbb_ct[[i]])-mean(ukbb_ct[[i]]))/sd(ukbb_ct[[i]])\n",
    "    \n",
    "    d=(summary(lm(scaled ~ \n",
    "                     scale(ukbb_ct$WHR)  + age_when_attended_assessment_centre_f21003_2_0\n",
    "                                 + average_total_household_income_before_tax_f738_2_0 + Sex\n",
    "                                 + Depression + frequency_of_drinking_alcohol_20414.0.0\n",
    "                                 + number_of_daysweek_of_vigorous_physical_activity_10._minutes_904.2.0 \n",
    "                                 + smoking_status_f20116_2_0 + qualifications_f6138_2_0 +\n",
    "                                 + townsend_deprivation_index_at_recruitment_f189_0_0, data=ukbb_ct)))\n",
    "    \n",
    "    StatsctWHR_t[index,][2]=d$coefficients[2,][3]\n",
    "    StatsctWHR_t[index,][1]=colnames(ukbb_ct)[i]\n",
    "    index=index+1\n",
    "    \n",
    "}"
   ]
  },
  {
   "cell_type": "code",
   "execution_count": 38,
   "metadata": {},
   "outputs": [],
   "source": [
    "write.table(p.adjust(StatsctWHR[,2], method = 'BH'),'/dagher/dagher11/filip/OBAL/output/wholebrainCTWHR_pval.csv',sep=',',quote=FALSE, row.names=FALSE)\n",
    "write.table(StatsctWHR_t[,2],'/dagher/dagher11/filip/OBAL/output/wholebrainCTWHR_tval.csv',sep=',',quote=FALSE, row.names=FALSE)"
   ]
  },
  {
   "cell_type": "markdown",
   "metadata": {},
   "source": [
    "## Cortical volume"
   ]
  },
  {
   "cell_type": "code",
   "execution_count": 39,
   "metadata": {},
   "outputs": [],
   "source": [
    "StatsvolWHR=matrix(nrow=length(c(89:119, 151:181)),ncol=2)\n",
    "index=1\n",
    "for (i in c(89:119, 151:181)) { #All thickness variables 58:88, 120:150\n",
    "    \n",
    "    scaled=((ukbb_ctxvol[[i]]/ukbb_ctxvol[[9]])-mean(ukbb_ctxvol[[i]]/ukbb_ctxvol[[9]]))/sd(ukbb_ctxvol[[i]]/ukbb_ctxvol[[9]])\n",
    "    \n",
    "    c=(summary(lm(scaled ~ \n",
    "                     scale(ukbb_ctxvol$WHR)  + age_when_attended_assessment_centre_f21003_2_0\n",
    "                                 + average_total_household_income_before_tax_f738_2_0 + Sex\n",
    "                                 + Depression + frequency_of_drinking_alcohol_20414.0.0\n",
    "                                 + number_of_daysweek_of_vigorous_physical_activity_10._minutes_904.2.0 \n",
    "                                 + smoking_status_f20116_2_0 + qualifications_f6138_2_0 +\n",
    "                                 + townsend_deprivation_index_at_recruitment_f189_0_0, data=ukbb_ctxvol, center=FALSE, qr = TRUE, maxIter=100000, Ca=0.0001)))\n",
    "    \n",
    "    StatsvolWHR[index,][2]=c$coefficients[2,][4]\n",
    "    StatsvolWHR[index,][1]=colnames(ukbb_ctxvol)[i]\n",
    "    index=index+1\n",
    "    \n",
    "}\n",
    "\n",
    "StatsvolWHR_t=matrix(nrow=length(c(89:119, 151:181)),ncol=2)\n",
    "index=1\n",
    "for (i in c(89:119, 151:181)) { #All thickness variables 58:88, 120:150\n",
    "    \n",
    "    scaled=((ukbb_ctxvol[[i]]/ukbb_ctxvol[[9]])-mean(ukbb_ctxvol[[i]]/ukbb_ctxvol[[9]]))/sd(ukbb_ctxvol[[i]]/ukbb_ctxvol[[9]])\n",
    "    \n",
    "    c=(summary(lm(scaled ~ \n",
    "                     scale(ukbb_ctxvol$WHR)  + age_when_attended_assessment_centre_f21003_2_0\n",
    "                                 + average_total_household_income_before_tax_f738_2_0 + Sex\n",
    "                                 + Depression + frequency_of_drinking_alcohol_20414.0.0\n",
    "                                 + number_of_daysweek_of_vigorous_physical_activity_10._minutes_904.2.0 \n",
    "                                 + smoking_status_f20116_2_0 + qualifications_f6138_2_0 +\n",
    "                                 + townsend_deprivation_index_at_recruitment_f189_0_0, data=ukbb_ctxvol)))\n",
    "    \n",
    "    StatsvolWHR_t[index,][2]=c$coefficients[2,][3]\n",
    "    StatsvolWHR_t[index,][1]=colnames(ukbb_ctxvol)[i]\n",
    "    index=index+1\n",
    "    \n",
    "}"
   ]
  },
  {
   "cell_type": "code",
   "execution_count": 40,
   "metadata": {
    "scrolled": true
   },
   "outputs": [],
   "source": [
    "write.table(p.adjust(StatsvolWHR[,2], method = 'BH'),'/dagher/dagher11/filip/OBAL/output/wholebrainVOLWHR_pval.csv',sep=',',quote=FALSE, row.names=FALSE)\n",
    "write.table(StatsvolWHR_t[,2],'/dagher/dagher11/filip/OBAL/output/wholebrainVOLWHR_tval.csv',sep=',',quote=FALSE, row.names=FALSE)"
   ]
  },
  {
   "cell_type": "markdown",
   "metadata": {},
   "source": [
    "## Subcortical volumes"
   ]
  },
  {
   "cell_type": "code",
   "execution_count": 88,
   "metadata": {},
   "outputs": [],
   "source": [
    "StatssubvolFSL_WHR=matrix(nrow=length(c(2287:2300)),ncol=2)\n",
    "index=1\n",
    "for (i in c(2287:2300)) { #All thickness variables 58:88, 120:150\n",
    "    \n",
    "    scaled=((ukbb_subvol[[i]]/ukbb_subvol[[9]])-mean(ukbb_subvol[[i]]/ukbb_subvol[[9]]))/sd(ukbb_subvol[[i]]/ukbb_subvol[[9]])\n",
    "    \n",
    "    b=(summary(lm(scaled ~ \n",
    "                     scale(ukbb_subvol$WHR)  + age_when_attended_assessment_centre_f21003_2_0\n",
    "                                 + average_total_household_income_before_tax_f738_2_0 + Sex\n",
    "                                 + Depression + frequency_of_drinking_alcohol_20414.0.0\n",
    "                                 + number_of_daysweek_of_vigorous_physical_activity_10._minutes_904.2.0 \n",
    "                                 + smoking_status_f20116_2_0 + qualifications_f6138_2_0 +\n",
    "                                 + townsend_deprivation_index_at_recruitment_f189_0_0, data=ukbb_subvol, center=FALSE, qr = TRUE, maxIter=100000, Ca=0.0001)))\n",
    "    \n",
    "    StatssubvolFSL_WHR[index,][2]=b$coefficients[2,][4]\n",
    "    StatssubvolFSL_WHR[index,][1]=colnames(ukbb_subvol)[i]\n",
    "    index=index+1\n",
    "    \n",
    "}\n",
    "\n",
    "StatssubvolFSL_WHR_t=matrix(nrow=length(c(2287:2300)),ncol=2)\n",
    "index=1\n",
    "for (i in c(2287:2300)) { #All thickness variables 58:88, 120:150\n",
    "    \n",
    "    scaled=((ukbb_subvol[[i]]/ukbb_subvol[[9]])-mean(ukbb_subvol[[i]]/ukbb_subvol[[9]]))/sd(ukbb_subvol[[i]]/ukbb_subvol[[9]])\n",
    "    \n",
    "    b=(summary(lm(scaled ~ \n",
    "                     scale(ukbb_subvol$WHR)  + age_when_attended_assessment_centre_f21003_2_0\n",
    "                                 + average_total_household_income_before_tax_f738_2_0 + Sex\n",
    "                                 + Depression + frequency_of_drinking_alcohol_20414.0.0\n",
    "                                 + number_of_daysweek_of_vigorous_physical_activity_10._minutes_904.2.0 \n",
    "                                 + smoking_status_f20116_2_0 + qualifications_f6138_2_0 +\n",
    "                                 + townsend_deprivation_index_at_recruitment_f189_0_0, data=ukbb_subvol)))\n",
    "    \n",
    "    StatssubvolFSL_WHR_t[index,][2]=b$coefficients[2,][3]\n",
    "    StatssubvolFSL_WHR_t[index,][1]=colnames(ukbb_subvol)[i]\n",
    "    index=index+1\n",
    "    \n",
    "}"
   ]
  },
  {
   "cell_type": "code",
   "execution_count": 89,
   "metadata": {
    "scrolled": true
   },
   "outputs": [],
   "source": [
    "StatssubvolFSL_WHR_t[p.adjust(StatssubvolFSL_WHR[,2], method='BH')<0.05]"
   ]
  },
  {
   "cell_type": "code",
   "execution_count": 90,
   "metadata": {},
   "outputs": [],
   "source": [
    "write.table(p.adjust(StatssubvolFSL_WHR[,2], method = 'BH'),'/dagher/dagher11/filip/OBAL/output/FSL_WHR_pvalue.csv',sep=',',quote=FALSE, row.names=FALSE)\n",
    "write.table((StatssubvolFSL_WHR_t[,2]),'/dagher/dagher11/filip/OBAL/output/FSL_WHR_tvalue.csv',sep=',',quote=FALSE, row.names=FALSE)\n"
   ]
  },
  {
   "cell_type": "markdown",
   "metadata": {},
   "source": [
    "## BFP"
   ]
  },
  {
   "cell_type": "markdown",
   "metadata": {},
   "source": [
    "## CT"
   ]
  },
  {
   "cell_type": "code",
   "execution_count": 44,
   "metadata": {},
   "outputs": [],
   "source": [
    "StatsctWHR=matrix(nrow=length(c(58:88, 120:150)),ncol=2)\n",
    "index=1\n",
    "for (i in c(58:88, 120:150)) { #All thickness variables 58:88, 120:150\n",
    "    \n",
    "    scaled=((ukbb_ct[[i]])-mean(ukbb_ct[[i]]))/sd(ukbb_ct[[i]])\n",
    "    \n",
    "    d=(summary(lm(scaled ~ \n",
    "                     scale(ukbb_ct$body_fat_percentage_f23099_0_0) + age_when_attended_assessment_centre_f21003_2_0\n",
    "                                 + average_total_household_income_before_tax_f738_2_0 + Sex\n",
    "                                 + Depression + frequency_of_drinking_alcohol_20414.0.0\n",
    "                                 + number_of_daysweek_of_vigorous_physical_activity_10._minutes_904.2.0 \n",
    "                                 + smoking_status_f20116_2_0 + qualifications_f6138_2_0 +\n",
    "                                 + townsend_deprivation_index_at_recruitment_f189_0_0, data=ukbb_ct, center=FALSE, qr = TRUE, maxIter=100000, Ca=0.0001)))\n",
    "    \n",
    "    StatsctWHR[index,][2]=d$coefficients[2,][4]\n",
    "    StatsctWHR[index,][1]=colnames(ukbb_ct)[i]\n",
    "    index=index+1\n",
    "    \n",
    "}\n",
    "\n",
    "StatsctWHR_t=matrix(nrow=length(c(58:88, 120:150)),ncol=2)\n",
    "index=1\n",
    "for (i in c(58:88, 120:150)) { #All thickness variables 58:88, 120:150\n",
    "    \n",
    "    scaled=((ukbb_ct[[i]])-mean(ukbb_ct[[i]]))/sd(ukbb_ct[[i]])\n",
    "    \n",
    "    d=(summary(lm(scaled ~ \n",
    "                     scale(ukbb_ct$body_fat_percentage_f23099_0_0) + age_when_attended_assessment_centre_f21003_2_0\n",
    "                                 + average_total_household_income_before_tax_f738_2_0 + Sex\n",
    "                                 + Depression + frequency_of_drinking_alcohol_20414.0.0\n",
    "                                 + number_of_daysweek_of_vigorous_physical_activity_10._minutes_904.2.0 \n",
    "                                 + smoking_status_f20116_2_0 + qualifications_f6138_2_0 +\n",
    "                                 + townsend_deprivation_index_at_recruitment_f189_0_0, data=ukbb_ct)))\n",
    "    \n",
    "    StatsctWHR_t[index,][2]=d$coefficients[2,][3]\n",
    "    StatsctWHR_t[index,][1]=colnames(ukbb_ct)[i]\n",
    "    index=index+1\n",
    "    \n",
    "}\n",
    "\n",
    "write.table(p.adjust(StatsctWHR[,2], method = 'BH'),'/dagher/dagher11/filip/OBAL/output/wholebrainCTBFP_pval.csv',sep=',',quote=FALSE, row.names=FALSE)\n",
    "write.table(StatsctWHR_t[,2],'/dagher/dagher11/filip/OBAL/output/wholebrainCTBFP_tval.csv',sep=',',quote=FALSE, row.names=FALSE)"
   ]
  },
  {
   "cell_type": "markdown",
   "metadata": {},
   "source": [
    "## VOL"
   ]
  },
  {
   "cell_type": "code",
   "execution_count": 45,
   "metadata": {},
   "outputs": [],
   "source": [
    "StatsvolWHR=matrix(nrow=length(c(89:119, 151:181)),ncol=2)\n",
    "index=1\n",
    "for (i in c(89:119, 151:181)) { #All thickness variables 58:88, 120:150\n",
    "    \n",
    "    scaled=((ukbb_ctxvol[[i]]/ukbb_ctxvol[[9]])-mean(ukbb_ctxvol[[i]]/ukbb_ctxvol[[9]]))/sd(ukbb_ctxvol[[i]]/ukbb_ctxvol[[9]])\n",
    "    \n",
    "    c=(summary(lm(scaled ~ \n",
    "                     scale(ukbb_ctxvol$body_fat_percentage_f23099_0_0) + age_when_attended_assessment_centre_f21003_2_0\n",
    "                                 + average_total_household_income_before_tax_f738_2_0 + Sex\n",
    "                                 + Depression + frequency_of_drinking_alcohol_20414.0.0\n",
    "                                 + number_of_daysweek_of_vigorous_physical_activity_10._minutes_904.2.0 \n",
    "                                 + smoking_status_f20116_2_0 + qualifications_f6138_2_0 +\n",
    "                                 + townsend_deprivation_index_at_recruitment_f189_0_0, data=ukbb_ctxvol, center=FALSE, qr = TRUE, maxIter=100000, Ca=0.0001)))\n",
    "    \n",
    "    StatsvolWHR[index,][2]=c$coefficients[2,][4]\n",
    "    StatsvolWHR[index,][1]=colnames(ukbb_ctxvol)[i]\n",
    "    index=index+1\n",
    "    \n",
    "}\n",
    "\n",
    "StatsvolWHR_t=matrix(nrow=length(c(89:119, 151:181)),ncol=2)\n",
    "index=1\n",
    "for (i in c(89:119, 151:181)) { #All thickness variables 58:88, 120:150\n",
    "    \n",
    "    scaled=((ukbb_ctxvol[[i]]/ukbb_ctxvol[[9]])-mean(ukbb_ctxvol[[i]]/ukbb_ctxvol[[9]]))/sd(ukbb_ctxvol[[i]]/ukbb_ctxvol[[9]])\n",
    "    \n",
    "    c=(summary(lm(scaled ~ \n",
    "                     scale(ukbb_ctxvol$body_fat_percentage_f23099_0_0) + age_when_attended_assessment_centre_f21003_2_0\n",
    "                                 + average_total_household_income_before_tax_f738_2_0 + Sex\n",
    "                                 + Depression + frequency_of_drinking_alcohol_20414.0.0\n",
    "                                 + number_of_daysweek_of_vigorous_physical_activity_10._minutes_904.2.0 \n",
    "                                 + smoking_status_f20116_2_0 + qualifications_f6138_2_0 +\n",
    "                                 + townsend_deprivation_index_at_recruitment_f189_0_0, data=ukbb_ctxvol)))\n",
    "    \n",
    "    StatsvolWHR_t[index,][2]=c$coefficients[2,][3]\n",
    "    StatsvolWHR_t[index,][1]=colnames(ukbb_ctxvol)[i]\n",
    "    index=index+1\n",
    "    \n",
    "}\n",
    "\n",
    "write.table(p.adjust(StatsvolWHR[,2], method = 'BH'),'/dagher/dagher11/filip/OBAL/output/wholebrainVOLBFP_pval.csv',sep=',',quote=FALSE, row.names=FALSE)\n",
    "write.table(StatsvolWHR_t[,2],'/dagher/dagher11/filip/OBAL/output/wholebrainVOLBFP_tval.csv',sep=',',quote=FALSE, row.names=FALSE)"
   ]
  },
  {
   "cell_type": "markdown",
   "metadata": {},
   "source": [
    "## Subcortical volumes"
   ]
  },
  {
   "cell_type": "code",
   "execution_count": 86,
   "metadata": {},
   "outputs": [],
   "source": [
    "StatssubvolFSL_WHR=matrix(nrow=length(c(2287:2300)),ncol=2)\n",
    "index=1\n",
    "for (i in c(2287:2300)) { #All thickness variables 58:88, 120:150\n",
    "    \n",
    "    scaled=((ukbb_subvol[[i]]/ukbb_subvol[[9]])-mean(ukbb_subvol[[i]]/ukbb_subvol[[9]]))/sd(ukbb_subvol[[i]]/ukbb_subvol[[9]])\n",
    "    \n",
    "    b=(summary(lm(scaled ~ \n",
    "                     scale(ukbb_subvol$body_fat_percentage_f23099_0_0)  + age_when_attended_assessment_centre_f21003_2_0\n",
    "                                 + average_total_household_income_before_tax_f738_2_0 + Sex\n",
    "                                 + Depression + frequency_of_drinking_alcohol_20414.0.0\n",
    "                                 + number_of_daysweek_of_vigorous_physical_activity_10._minutes_904.2.0 \n",
    "                                 + smoking_status_f20116_2_0 + qualifications_f6138_2_0 +\n",
    "                                 + townsend_deprivation_index_at_recruitment_f189_0_0, data=ukbb_subvol, center=FALSE, qr = TRUE, maxIter=100000, Ca=0.0001)))\n",
    "    \n",
    "    StatssubvolFSL_WHR[index,][2]=b$coefficients[2,][4]\n",
    "    StatssubvolFSL_WHR[index,][1]=colnames(ukbb_subvol)[i]\n",
    "    index=index+1\n",
    "    \n",
    "}\n",
    "\n",
    "StatssubvolFSL_WHR_t=matrix(nrow=length(c(2287:2300)),ncol=2)\n",
    "index=1\n",
    "for (i in c(2287:2300)) { #All thickness variables 58:88, 120:150\n",
    "    \n",
    "    scaled=((ukbb_subvol[[i]]/ukbb_subvol[[9]])-mean(ukbb_subvol[[i]]/ukbb_subvol[[9]]))/sd(ukbb_subvol[[i]]/ukbb_subvol[[9]])\n",
    "    \n",
    "    b=(summary(lm(scaled ~ \n",
    "                     scale(ukbb_subvol$body_fat_percentage_f23099_0_0) + age_when_attended_assessment_centre_f21003_2_0\n",
    "                                 + average_total_household_income_before_tax_f738_2_0 + Sex\n",
    "                                 + Depression + frequency_of_drinking_alcohol_20414.0.0\n",
    "                                 + number_of_daysweek_of_vigorous_physical_activity_10._minutes_904.2.0 \n",
    "                                 + smoking_status_f20116_2_0 + qualifications_f6138_2_0 +\n",
    "                                 + townsend_deprivation_index_at_recruitment_f189_0_0, data=ukbb_subvol)))\n",
    "    \n",
    "    StatssubvolFSL_WHR_t[index,][2]=b$coefficients[2,][3]\n",
    "    StatssubvolFSL_WHR_t[index,][1]=colnames(ukbb_subvol)[i]\n",
    "    index=index+1\n",
    "    \n",
    "}\n",
    "\n",
    "StatssubvolFSL_WHR_t[p.adjust(StatssubvolFSL_WHR[,2], method='BH')<0.05]\n",
    "\n",
    "write.table(p.adjust(StatssubvolFSL_WHR[,2], method = 'BH'),'/dagher/dagher11/filip/OBAL/output/FSL_BFP_pvalue.csv',sep=',',quote=FALSE, row.names=FALSE)\n",
    "write.table((StatssubvolFSL_WHR_t[,2]),'/dagher/dagher11/filip/OBAL/output/FSL_BFP_tvalue.csv',sep=',',quote=FALSE, row.names=FALSE)\n"
   ]
  },
  {
   "cell_type": "code",
   "execution_count": 47,
   "metadata": {},
   "outputs": [],
   "source": [
    "Stats_adjust"
   ]
  },
  {
   "cell_type": "code",
   "execution_count": null,
   "metadata": {},
   "outputs": [],
   "source": []
  }
 ],
 "metadata": {
  "kernelspec": {
   "display_name": "R",
   "language": "R",
   "name": "ir"
  },
  "language_info": {
   "codemirror_mode": "r",
   "file_extension": ".r",
   "mimetype": "text/x-r-source",
   "name": "R",
   "pygments_lexer": "r",
   "version": "3.6.1"
  }
 },
 "nbformat": 4,
 "nbformat_minor": 2
}

